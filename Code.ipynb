{
  "nbformat": 4,
  "nbformat_minor": 0,
  "metadata": {
    "colab": {
      "provenance": []
    },
    "kernelspec": {
      "name": "python3",
      "display_name": "Python 3"
    },
    "language_info": {
      "name": "python"
    }
  },
  "cells": [
    {
      "cell_type": "code",
      "metadata": {
        "colab": {
          "base_uri": "https://localhost:8080/"
        },
        "id": "W5hzQHQsWedf",
        "outputId": "9c6f2b69-708f-4293-a3ed-60b61b7b6445"
      },
      "source": [
        "from google.colab import drive\n",
        "drive.mount('/content/drive')"
      ],
      "execution_count": null,
      "outputs": [
        {
          "output_type": "stream",
          "name": "stdout",
          "text": [
            "Drive already mounted at /content/drive; to attempt to forcibly remount, call drive.mount(\"/content/drive\", force_remount=True).\n"
          ]
        }
      ]
    },
    {
      "cell_type": "code",
      "metadata": {
        "colab": {
          "base_uri": "https://localhost:8080/"
        },
        "id": "8JA_2R6eWDfI",
        "outputId": "848a2c3f-a892-40bc-a5f9-c194d2a600f9"
      },
      "source": [
        "%cd '/content/drive/MyDrive/Project'\n",
        "!ls"
      ],
      "execution_count": null,
      "outputs": [
        {
          "output_type": "stream",
          "name": "stdout",
          "text": [
            "[Errno 2] No such file or directory: '/content/drive/MyDrive/Project'\n",
            "/content\n",
            "sample_data\n"
          ]
        }
      ]
    },
    {
      "cell_type": "code",
      "metadata": {
        "id": "XDD1PZIPlb0a"
      },
      "source": [
        "import pandas as pd\n",
        "import numpy as np\n",
        "import seaborn as sns\n",
        "import matplotlib.pyplot as plt\n",
        "from matplotlib import pyplot\n",
        "from sklearn.model_selection import train_test_split\n",
        "from sklearn.metrics import accuracy_score\n",
        "from sklearn.pipeline import Pipeline\n",
        "from sklearn.ensemble import RandomForestClassifier\n",
        "from sklearn.ensemble import GradientBoostingClassifier\n",
        "from sklearn.ensemble import ExtraTreesClassifier\n",
        "from sklearn.ensemble import AdaBoostClassifier\n",
        "from sklearn.preprocessing import StandardScaler\n",
        "from sklearn.model_selection import KFold\n",
        "from sklearn.model_selection import cross_val_score\n",
        "from sklearn.model_selection import GridSearchCV\n",
        "from sklearn.linear_model import LogisticRegression\n",
        "from sklearn.tree import DecisionTreeClassifier\n",
        "from sklearn.neighbors import KNeighborsClassifier\n",
        "from sklearn.svm import SVC\n",
        "from pandas import read_csv\n",
        "from pandas import set_option\n",
        "from sklearn.preprocessing import StandardScaler\n",
        "from sklearn.metrics import classification_report\n",
        "from sklearn.metrics import confusion_matrix\n",
        "from sklearn.discriminant_analysis import LinearDiscriminantAnalysis\n",
        "from sklearn.naive_bayes import GaussianNB"
      ],
      "execution_count": null,
      "outputs": []
    },
    {
      "cell_type": "markdown",
      "metadata": {
        "id": "P34BBUPGoCAz"
      },
      "source": [
        "I. LOADING VÀ CHECK THÔNG TIN CÁC CỘT DỮ LIỆU CỦA DATASET\n"
      ]
    },
    {
      "cell_type": "code",
      "metadata": {
        "colab": {
          "base_uri": "https://localhost:8080/",
          "height": 203
        },
        "id": "FRyycFsElqHv",
        "outputId": "577df9aa-e90d-4b63-de65-d5486a2d7fcc"
      },
      "source": [
        "data = pd.read_csv('Dataset.csv') \n",
        "data.head()"
      ],
      "execution_count": null,
      "outputs": [
        {
          "output_type": "execute_result",
          "data": {
            "text/html": [
              "<div>\n",
              "<style scoped>\n",
              "    .dataframe tbody tr th:only-of-type {\n",
              "        vertical-align: middle;\n",
              "    }\n",
              "\n",
              "    .dataframe tbody tr th {\n",
              "        vertical-align: top;\n",
              "    }\n",
              "\n",
              "    .dataframe thead th {\n",
              "        text-align: right;\n",
              "    }\n",
              "</style>\n",
              "<table border=\"1\" class=\"dataframe\">\n",
              "  <thead>\n",
              "    <tr style=\"text-align: right;\">\n",
              "      <th></th>\n",
              "      <th>Loan_ID</th>\n",
              "      <th>Gender</th>\n",
              "      <th>Married</th>\n",
              "      <th>Dependents</th>\n",
              "      <th>Education</th>\n",
              "      <th>Self_Employed</th>\n",
              "      <th>ApplicantIncome</th>\n",
              "      <th>CoapplicantIncome</th>\n",
              "      <th>LoanAmount</th>\n",
              "      <th>Loan_Amount_Term</th>\n",
              "      <th>Credit_History</th>\n",
              "      <th>Property_Area</th>\n",
              "      <th>Loan_Status</th>\n",
              "    </tr>\n",
              "  </thead>\n",
              "  <tbody>\n",
              "    <tr>\n",
              "      <th>0</th>\n",
              "      <td>LP001002</td>\n",
              "      <td>Male</td>\n",
              "      <td>No</td>\n",
              "      <td>0</td>\n",
              "      <td>Graduate</td>\n",
              "      <td>No</td>\n",
              "      <td>5849</td>\n",
              "      <td>0.0</td>\n",
              "      <td>NaN</td>\n",
              "      <td>360.0</td>\n",
              "      <td>1.0</td>\n",
              "      <td>Urban</td>\n",
              "      <td>Y</td>\n",
              "    </tr>\n",
              "    <tr>\n",
              "      <th>1</th>\n",
              "      <td>LP001003</td>\n",
              "      <td>Male</td>\n",
              "      <td>Yes</td>\n",
              "      <td>1</td>\n",
              "      <td>Graduate</td>\n",
              "      <td>No</td>\n",
              "      <td>4583</td>\n",
              "      <td>1508.0</td>\n",
              "      <td>128.0</td>\n",
              "      <td>360.0</td>\n",
              "      <td>1.0</td>\n",
              "      <td>Rural</td>\n",
              "      <td>N</td>\n",
              "    </tr>\n",
              "    <tr>\n",
              "      <th>2</th>\n",
              "      <td>LP001005</td>\n",
              "      <td>Male</td>\n",
              "      <td>Yes</td>\n",
              "      <td>0</td>\n",
              "      <td>Graduate</td>\n",
              "      <td>Yes</td>\n",
              "      <td>3000</td>\n",
              "      <td>0.0</td>\n",
              "      <td>66.0</td>\n",
              "      <td>360.0</td>\n",
              "      <td>1.0</td>\n",
              "      <td>Urban</td>\n",
              "      <td>Y</td>\n",
              "    </tr>\n",
              "    <tr>\n",
              "      <th>3</th>\n",
              "      <td>LP001006</td>\n",
              "      <td>Male</td>\n",
              "      <td>Yes</td>\n",
              "      <td>0</td>\n",
              "      <td>Not Graduate</td>\n",
              "      <td>No</td>\n",
              "      <td>2583</td>\n",
              "      <td>2358.0</td>\n",
              "      <td>120.0</td>\n",
              "      <td>360.0</td>\n",
              "      <td>1.0</td>\n",
              "      <td>Urban</td>\n",
              "      <td>Y</td>\n",
              "    </tr>\n",
              "    <tr>\n",
              "      <th>4</th>\n",
              "      <td>LP001008</td>\n",
              "      <td>Male</td>\n",
              "      <td>No</td>\n",
              "      <td>0</td>\n",
              "      <td>Graduate</td>\n",
              "      <td>No</td>\n",
              "      <td>6000</td>\n",
              "      <td>0.0</td>\n",
              "      <td>141.0</td>\n",
              "      <td>360.0</td>\n",
              "      <td>1.0</td>\n",
              "      <td>Urban</td>\n",
              "      <td>Y</td>\n",
              "    </tr>\n",
              "  </tbody>\n",
              "</table>\n",
              "</div>"
            ],
            "text/plain": [
              "    Loan_ID Gender Married  ... Credit_History Property_Area Loan_Status\n",
              "0  LP001002   Male      No  ...            1.0         Urban           Y\n",
              "1  LP001003   Male     Yes  ...            1.0         Rural           N\n",
              "2  LP001005   Male     Yes  ...            1.0         Urban           Y\n",
              "3  LP001006   Male     Yes  ...            1.0         Urban           Y\n",
              "4  LP001008   Male      No  ...            1.0         Urban           Y\n",
              "\n",
              "[5 rows x 13 columns]"
            ]
          },
          "metadata": {},
          "execution_count": 190
        }
      ]
    },
    {
      "cell_type": "code",
      "metadata": {
        "colab": {
          "base_uri": "https://localhost:8080/"
        },
        "id": "vVue9Bugl7EI",
        "outputId": "ccf0b8ef-564b-4108-f68d-5a61cdb9cf0c"
      },
      "source": [
        "print(\"Data has {} row and {} column\".format(data.shape[0], data.shape[1]))"
      ],
      "execution_count": null,
      "outputs": [
        {
          "output_type": "stream",
          "name": "stdout",
          "text": [
            "Data has 614 row and 13 column\n"
          ]
        }
      ]
    },
    {
      "cell_type": "code",
      "metadata": {
        "colab": {
          "base_uri": "https://localhost:8080/",
          "height": 295
        },
        "id": "dp2GuUrVmNMV",
        "outputId": "c80e8f0a-413e-4e5f-d659-ecb1053f71d8"
      },
      "source": [
        "data.describe()"
      ],
      "execution_count": null,
      "outputs": [
        {
          "output_type": "execute_result",
          "data": {
            "text/html": [
              "<div>\n",
              "<style scoped>\n",
              "    .dataframe tbody tr th:only-of-type {\n",
              "        vertical-align: middle;\n",
              "    }\n",
              "\n",
              "    .dataframe tbody tr th {\n",
              "        vertical-align: top;\n",
              "    }\n",
              "\n",
              "    .dataframe thead th {\n",
              "        text-align: right;\n",
              "    }\n",
              "</style>\n",
              "<table border=\"1\" class=\"dataframe\">\n",
              "  <thead>\n",
              "    <tr style=\"text-align: right;\">\n",
              "      <th></th>\n",
              "      <th>ApplicantIncome</th>\n",
              "      <th>CoapplicantIncome</th>\n",
              "      <th>LoanAmount</th>\n",
              "      <th>Loan_Amount_Term</th>\n",
              "      <th>Credit_History</th>\n",
              "    </tr>\n",
              "  </thead>\n",
              "  <tbody>\n",
              "    <tr>\n",
              "      <th>count</th>\n",
              "      <td>614.000000</td>\n",
              "      <td>614.000000</td>\n",
              "      <td>592.000000</td>\n",
              "      <td>600.00000</td>\n",
              "      <td>564.000000</td>\n",
              "    </tr>\n",
              "    <tr>\n",
              "      <th>mean</th>\n",
              "      <td>5403.459283</td>\n",
              "      <td>1621.245798</td>\n",
              "      <td>146.412162</td>\n",
              "      <td>342.00000</td>\n",
              "      <td>0.842199</td>\n",
              "    </tr>\n",
              "    <tr>\n",
              "      <th>std</th>\n",
              "      <td>6109.041673</td>\n",
              "      <td>2926.248369</td>\n",
              "      <td>85.587325</td>\n",
              "      <td>65.12041</td>\n",
              "      <td>0.364878</td>\n",
              "    </tr>\n",
              "    <tr>\n",
              "      <th>min</th>\n",
              "      <td>150.000000</td>\n",
              "      <td>0.000000</td>\n",
              "      <td>9.000000</td>\n",
              "      <td>12.00000</td>\n",
              "      <td>0.000000</td>\n",
              "    </tr>\n",
              "    <tr>\n",
              "      <th>25%</th>\n",
              "      <td>2877.500000</td>\n",
              "      <td>0.000000</td>\n",
              "      <td>100.000000</td>\n",
              "      <td>360.00000</td>\n",
              "      <td>1.000000</td>\n",
              "    </tr>\n",
              "    <tr>\n",
              "      <th>50%</th>\n",
              "      <td>3812.500000</td>\n",
              "      <td>1188.500000</td>\n",
              "      <td>128.000000</td>\n",
              "      <td>360.00000</td>\n",
              "      <td>1.000000</td>\n",
              "    </tr>\n",
              "    <tr>\n",
              "      <th>75%</th>\n",
              "      <td>5795.000000</td>\n",
              "      <td>2297.250000</td>\n",
              "      <td>168.000000</td>\n",
              "      <td>360.00000</td>\n",
              "      <td>1.000000</td>\n",
              "    </tr>\n",
              "    <tr>\n",
              "      <th>max</th>\n",
              "      <td>81000.000000</td>\n",
              "      <td>41667.000000</td>\n",
              "      <td>700.000000</td>\n",
              "      <td>480.00000</td>\n",
              "      <td>1.000000</td>\n",
              "    </tr>\n",
              "  </tbody>\n",
              "</table>\n",
              "</div>"
            ],
            "text/plain": [
              "       ApplicantIncome  CoapplicantIncome  ...  Loan_Amount_Term  Credit_History\n",
              "count       614.000000         614.000000  ...         600.00000      564.000000\n",
              "mean       5403.459283        1621.245798  ...         342.00000        0.842199\n",
              "std        6109.041673        2926.248369  ...          65.12041        0.364878\n",
              "min         150.000000           0.000000  ...          12.00000        0.000000\n",
              "25%        2877.500000           0.000000  ...         360.00000        1.000000\n",
              "50%        3812.500000        1188.500000  ...         360.00000        1.000000\n",
              "75%        5795.000000        2297.250000  ...         360.00000        1.000000\n",
              "max       81000.000000       41667.000000  ...         480.00000        1.000000\n",
              "\n",
              "[8 rows x 5 columns]"
            ]
          },
          "metadata": {},
          "execution_count": 192
        }
      ]
    },
    {
      "cell_type": "code",
      "metadata": {
        "colab": {
          "base_uri": "https://localhost:8080/"
        },
        "id": "KeuWEPjfmyyB",
        "outputId": "aa0d54ed-5dd1-4bde-eca7-64ebd7cfac8e"
      },
      "source": [
        "data.info()"
      ],
      "execution_count": null,
      "outputs": [
        {
          "output_type": "stream",
          "name": "stdout",
          "text": [
            "<class 'pandas.core.frame.DataFrame'>\n",
            "RangeIndex: 614 entries, 0 to 613\n",
            "Data columns (total 13 columns):\n",
            " #   Column             Non-Null Count  Dtype  \n",
            "---  ------             --------------  -----  \n",
            " 0   Loan_ID            614 non-null    object \n",
            " 1   Gender             601 non-null    object \n",
            " 2   Married            611 non-null    object \n",
            " 3   Dependents         599 non-null    object \n",
            " 4   Education          614 non-null    object \n",
            " 5   Self_Employed      582 non-null    object \n",
            " 6   ApplicantIncome    614 non-null    int64  \n",
            " 7   CoapplicantIncome  614 non-null    float64\n",
            " 8   LoanAmount         592 non-null    float64\n",
            " 9   Loan_Amount_Term   600 non-null    float64\n",
            " 10  Credit_History     564 non-null    float64\n",
            " 11  Property_Area      614 non-null    object \n",
            " 12  Loan_Status        614 non-null    object \n",
            "dtypes: float64(4), int64(1), object(8)\n",
            "memory usage: 62.5+ KB\n"
          ]
        }
      ]
    },
    {
      "cell_type": "markdown",
      "metadata": {
        "id": "HaPV2MFVfV0p"
      },
      "source": [
        "II. PHÂN TÍCH DỮ LIỆU\n"
      ]
    },
    {
      "cell_type": "code",
      "metadata": {
        "id": "oa8N--Bvd0No"
      },
      "source": [
        "#Vì cột Credit_Histoty chỉ có 2 giá trị 0 và 1 nên đổi sang kiểu Object luôn \n",
        "data['Credit_History'] = data['Credit_History'].astype('O')"
      ],
      "execution_count": null,
      "outputs": []
    },
    {
      "cell_type": "code",
      "metadata": {
        "id": "yPE5LU-1enxz"
      },
      "source": [
        "#Bỏ luôn cột Loan_ID vì không đóng góp đc gì cho việc đánh giá dữ liệu\n",
        "data.drop('Loan_ID', axis=1, inplace=True)"
      ],
      "execution_count": null,
      "outputs": []
    },
    {
      "cell_type": "code",
      "metadata": {
        "colab": {
          "base_uri": "https://localhost:8080/",
          "height": 476
        },
        "id": "vLkmilH-entL",
        "outputId": "86afa994-95a7-4f28-dc19-9086ecca8070"
      },
      "source": [
        "plt.figure(figsize=(8,6))\n",
        "sns.countplot(data['Loan_Status']);\n",
        "\n",
        "print('The percentage of Y class : %.2f' % (data['Loan_Status'].value_counts()[0] / len(data)))\n",
        "print('The percentage of N class : %.2f' % (data['Loan_Status'].value_counts()[1] / len(data)))"
      ],
      "execution_count": null,
      "outputs": [
        {
          "output_type": "stream",
          "name": "stdout",
          "text": [
            "The percentage of Y class : 0.69\n",
            "The percentage of N class : 0.31\n"
          ]
        },
        {
          "output_type": "stream",
          "name": "stderr",
          "text": [
            "/usr/local/lib/python3.7/dist-packages/seaborn/_decorators.py:43: FutureWarning: Pass the following variable as a keyword arg: x. From version 0.12, the only valid positional argument will be `data`, and passing other arguments without an explicit keyword will result in an error or misinterpretation.\n",
            "  FutureWarning\n"
          ]
        },
        {
          "output_type": "display_data",
          "data": {
            "image/png": "[encoded data removed]",
            "text/plain": [
              "<Figure size 576x432 with 1 Axes>"
            ]
          },
          "metadata": {
            "needs_background": "light"
          }
        }
      ]
    },
    {
      "cell_type": "code",
      "metadata": {
        "colab": {
          "base_uri": "https://localhost:8080/",
          "height": 330
        },
        "id": "SRGOoDU0V_9x",
        "outputId": "19e3a309-b481-4892-d6fe-0f0544c2d309"
      },
      "source": [
        "#Credit_History\n",
        "plt.figure(figsize=(15,10))\n",
        "plt.subplot(2,3,1)\n",
        "sns.countplot(x=data['Credit_History'] ,hue='Loan_Status', data=data ,palette='plasma')\n",
        "plt.xlabel('Credit_History', fontsize=14)"
      ],
      "execution_count": null,
      "outputs": [
        {
          "output_type": "execute_result",
          "data": {
            "text/plain": [
              "Text(0.5, 0, 'Credit_History')"
            ]
          },
          "metadata": {},
          "execution_count": 211
        },
        {
          "output_type": "display_data",
          "data": {
            "image/png": "[encoded data removed]",
            "text/plain": [
              "<Figure size 1080x720 with 1 Axes>"
            ]
          },
          "metadata": {
            "needs_background": "light"
          }
        }
      ]
    },
    {
      "cell_type": "code",
      "metadata": {
        "colab": {
          "base_uri": "https://localhost:8080/",
          "height": 330
        },
        "id": "KswRqrXgenar",
        "outputId": "57c177bb-06e4-4830-866c-5f7a5c777f05"
      },
      "source": [
        "# Gender\n",
        "grid = sns.FacetGrid(data,col='Loan_Status', height=4, aspect=1.6)\n",
        "grid.map(sns.countplot, 'Gender');\n",
        "#Nam nữ như nhau."
      ],
      "execution_count": null,
      "outputs": [
        {
          "output_type": "stream",
          "name": "stderr",
          "text": [
            "/usr/local/lib/python3.7/dist-packages/seaborn/axisgrid.py:643: UserWarning: Using the countplot function without specifying `order` is likely to produce an incorrect plot.\n",
            "  warnings.warn(warning)\n"
          ]
        },
        {
          "output_type": "display_data",
          "data": {
            "image/png": "[encoded data removed]",
            "text/plain": [
              "<Figure size 921.6x288 with 2 Axes>"
            ]
          },
          "metadata": {
            "needs_background": "light"
          }
        }
      ]
    },
    {
      "cell_type": "code",
      "metadata": {
        "id": "u6aRtYnxq-zq",
        "colab": {
          "base_uri": "https://localhost:8080/",
          "height": 334
        },
        "outputId": "31a859cc-6404-465a-e4ed-8c403cc86e4a"
      },
      "source": [
        "# Married\n",
        "plt.figure(figsize=(15,5))\n",
        "sns.countplot(x='Married', hue='Loan_Status', data=data);\n",
        "#Người đã kết hôn có cơ hội vay tiền hơn."
      ],
      "execution_count": null,
      "outputs": [
        {
          "output_type": "display_data",
          "data": {
            "image/png": "[encoded data removed]",
            "text/plain": [
              "<Figure size 1080x360 with 1 Axes>"
            ]
          },
          "metadata": {
            "needs_background": "light"
          }
        }
      ]
    },
    {
      "cell_type": "code",
      "metadata": {
        "colab": {
          "base_uri": "https://localhost:8080/",
          "height": 334
        },
        "id": "uOF5ZCMBiN9D",
        "outputId": "b1adfb92-4aa4-4d24-a2a8-35f10b6fb968"
      },
      "source": [
        "# Dependents\n",
        "plt.figure(figsize=(15,5))\n",
        "sns.countplot(x='Dependents', hue='Loan_Status', data=data);\n",
        "#Càng ít người phụ thuộc càng dễ vay tiền hơn"
      ],
      "execution_count": null,
      "outputs": [
        {
          "output_type": "display_data",
          "data": {
            "image/png": "[encoded data removed]",
            "text/plain": [
              "<Figure size 1080x360 with 1 Axes>"
            ]
          },
          "metadata": {
            "needs_background": "light"
          }
        }
      ]
    },
    {
      "cell_type": "code",
      "metadata": {
        "colab": {
          "base_uri": "https://localhost:8080/",
          "height": 330
        },
        "id": "e9eT1AIJiN7T",
        "outputId": "2e78d141-612b-4e29-f0f1-4c2a6aaaa342"
      },
      "source": [
        "# Education\n",
        "grid = sns.FacetGrid(data,col='Loan_Status', height=4, aspect=1.6)\n",
        "grid.map(sns.countplot, 'Education');\n",
        "#Không có gì nổi bật"
      ],
      "execution_count": null,
      "outputs": [
        {
          "output_type": "stream",
          "name": "stderr",
          "text": [
            "/usr/local/lib/python3.7/dist-packages/seaborn/axisgrid.py:643: UserWarning: Using the countplot function without specifying `order` is likely to produce an incorrect plot.\n",
            "  warnings.warn(warning)\n"
          ]
        },
        {
          "output_type": "display_data",
          "data": {
            "image/png": "[encoded data removed]",
            "text/plain": [
              "<Figure size 921.6x288 with 2 Axes>"
            ]
          },
          "metadata": {
            "needs_background": "light"
          }
        }
      ]
    },
    {
      "cell_type": "code",
      "metadata": {
        "colab": {
          "base_uri": "https://localhost:8080/",
          "height": 330
        },
        "id": "Hl3dlmroiN33",
        "outputId": "af99f421-8cae-4963-da19-ba3c8c850e82"
      },
      "source": [
        "# Self_Employed\n",
        "grid = sns.FacetGrid(data,col='Loan_Status', height= 4, aspect=1.6)\n",
        "grid.map(sns.countplot, 'Self_Employed');\n",
        "#Không có gì nổi bật"
      ],
      "execution_count": null,
      "outputs": [
        {
          "output_type": "stream",
          "name": "stderr",
          "text": [
            "/usr/local/lib/python3.7/dist-packages/seaborn/axisgrid.py:643: UserWarning: Using the countplot function without specifying `order` is likely to produce an incorrect plot.\n",
            "  warnings.warn(warning)\n"
          ]
        },
        {
          "output_type": "display_data",
          "data": {
            "image/png": "[encoded data removed]",
            "text/plain": [
              "<Figure size 921.6x288 with 2 Axes>"
            ]
          },
          "metadata": {
            "needs_background": "light"
          }
        }
      ]
    },
    {
      "cell_type": "code",
      "metadata": {
        "colab": {
          "base_uri": "https://localhost:8080/",
          "height": 335
        },
        "id": "y_HMY_1giN1D",
        "outputId": "75a1c9ef-c41e-46e8-c573-99583893f02e"
      },
      "source": [
        "# Property_Area\n",
        "plt.figure(figsize=(15,5))\n",
        "sns.countplot(x='Property_Area', hue='Loan_Status', data=data);\n",
        "#Có vẻ như ở bán thành thị có cơ hội vay cao hơn"
      ],
      "execution_count": null,
      "outputs": [
        {
          "output_type": "display_data",
          "data": {
            "image/png": "[encoded data removed]",
            "text/plain": [
              "<Figure size 1080x360 with 1 Axes>"
            ]
          },
          "metadata": {
            "needs_background": "light"
          }
        }
      ]
    },
    {
      "cell_type": "markdown",
      "metadata": {
        "id": "jkPv40Gej_jc"
      },
      "source": [
        "III. XỬ LÍ CÁC DỮ LIỆU NULL"
      ]
    },
    {
      "cell_type": "code",
      "metadata": {
        "colab": {
          "base_uri": "https://localhost:8080/"
        },
        "id": "f5I9h_BHiNyj",
        "outputId": "d97df60d-cc05-4d3e-d78a-e0c9853f79e8"
      },
      "source": [
        "#Check các dữ liệu null\n",
        "data.isnull().sum().sort_values(ascending=False)"
      ],
      "execution_count": null,
      "outputs": [
        {
          "output_type": "execute_result",
          "data": {
            "text/plain": [
              "Credit_History       50\n",
              "Self_Employed        32\n",
              "LoanAmount           22\n",
              "Dependents           15\n",
              "Loan_Amount_Term     14\n",
              "Gender               13\n",
              "Married               3\n",
              "Loan_Status           0\n",
              "Property_Area         0\n",
              "CoapplicantIncome     0\n",
              "ApplicantIncome       0\n",
              "Education             0\n",
              "dtype: int64"
            ]
          },
          "metadata": {},
          "execution_count": 140
        }
      ]
    },
    {
      "cell_type": "code",
      "metadata": {
        "id": "crQnm6ftkY9T"
      },
      "source": [
        "cat_data = []\n",
        "num_data = []\n",
        "\n",
        "for i,c in enumerate(data.dtypes):\n",
        "    if c == object:\n",
        "        cat_data.append(data.iloc[:, i])\n",
        "    else :\n",
        "        num_data.append(data.iloc[:, i])"
      ],
      "execution_count": null,
      "outputs": []
    },
    {
      "cell_type": "code",
      "metadata": {
        "id": "TUBsgw1XiNu0"
      },
      "source": [
        "cat_data = pd.DataFrame(cat_data).transpose()\n",
        "num_data = pd.DataFrame(num_data).transpose()"
      ],
      "execution_count": null,
      "outputs": []
    },
    {
      "cell_type": "code",
      "metadata": {
        "colab": {
          "base_uri": "https://localhost:8080/",
          "height": 203
        },
        "id": "ojBCePjziNrN",
        "outputId": "2d54f5bd-d724-4a04-8fe4-3ff51dd3fbf6"
      },
      "source": [
        "cat_data.head()"
      ],
      "execution_count": null,
      "outputs": [
        {
          "output_type": "execute_result",
          "data": {
            "text/html": [
              "<div>\n",
              "<style scoped>\n",
              "    .dataframe tbody tr th:only-of-type {\n",
              "        vertical-align: middle;\n",
              "    }\n",
              "\n",
              "    .dataframe tbody tr th {\n",
              "        vertical-align: top;\n",
              "    }\n",
              "\n",
              "    .dataframe thead th {\n",
              "        text-align: right;\n",
              "    }\n",
              "</style>\n",
              "<table border=\"1\" class=\"dataframe\">\n",
              "  <thead>\n",
              "    <tr style=\"text-align: right;\">\n",
              "      <th></th>\n",
              "      <th>Gender</th>\n",
              "      <th>Married</th>\n",
              "      <th>Dependents</th>\n",
              "      <th>Education</th>\n",
              "      <th>Self_Employed</th>\n",
              "      <th>Credit_History</th>\n",
              "      <th>Property_Area</th>\n",
              "      <th>Loan_Status</th>\n",
              "    </tr>\n",
              "  </thead>\n",
              "  <tbody>\n",
              "    <tr>\n",
              "      <th>0</th>\n",
              "      <td>Male</td>\n",
              "      <td>No</td>\n",
              "      <td>0</td>\n",
              "      <td>Graduate</td>\n",
              "      <td>No</td>\n",
              "      <td>1</td>\n",
              "      <td>Urban</td>\n",
              "      <td>Y</td>\n",
              "    </tr>\n",
              "    <tr>\n",
              "      <th>1</th>\n",
              "      <td>Male</td>\n",
              "      <td>Yes</td>\n",
              "      <td>1</td>\n",
              "      <td>Graduate</td>\n",
              "      <td>No</td>\n",
              "      <td>1</td>\n",
              "      <td>Rural</td>\n",
              "      <td>N</td>\n",
              "    </tr>\n",
              "    <tr>\n",
              "      <th>2</th>\n",
              "      <td>Male</td>\n",
              "      <td>Yes</td>\n",
              "      <td>0</td>\n",
              "      <td>Graduate</td>\n",
              "      <td>Yes</td>\n",
              "      <td>1</td>\n",
              "      <td>Urban</td>\n",
              "      <td>Y</td>\n",
              "    </tr>\n",
              "    <tr>\n",
              "      <th>3</th>\n",
              "      <td>Male</td>\n",
              "      <td>Yes</td>\n",
              "      <td>0</td>\n",
              "      <td>Not Graduate</td>\n",
              "      <td>No</td>\n",
              "      <td>1</td>\n",
              "      <td>Urban</td>\n",
              "      <td>Y</td>\n",
              "    </tr>\n",
              "    <tr>\n",
              "      <th>4</th>\n",
              "      <td>Male</td>\n",
              "      <td>No</td>\n",
              "      <td>0</td>\n",
              "      <td>Graduate</td>\n",
              "      <td>No</td>\n",
              "      <td>1</td>\n",
              "      <td>Urban</td>\n",
              "      <td>Y</td>\n",
              "    </tr>\n",
              "  </tbody>\n",
              "</table>\n",
              "</div>"
            ],
            "text/plain": [
              "  Gender Married Dependents  ... Credit_History Property_Area Loan_Status\n",
              "0   Male      No          0  ...              1         Urban           Y\n",
              "1   Male     Yes          1  ...              1         Rural           N\n",
              "2   Male     Yes          0  ...              1         Urban           Y\n",
              "3   Male     Yes          0  ...              1         Urban           Y\n",
              "4   Male      No          0  ...              1         Urban           Y\n",
              "\n",
              "[5 rows x 8 columns]"
            ]
          },
          "metadata": {},
          "execution_count": 143
        }
      ]
    },
    {
      "cell_type": "code",
      "metadata": {
        "colab": {
          "base_uri": "https://localhost:8080/",
          "height": 203
        },
        "id": "2C8q_G8ciNng",
        "outputId": "cf22d253-f906-4f7e-e290-c49d4437a47b"
      },
      "source": [
        "num_data.head()"
      ],
      "execution_count": null,
      "outputs": [
        {
          "output_type": "execute_result",
          "data": {
            "text/html": [
              "<div>\n",
              "<style scoped>\n",
              "    .dataframe tbody tr th:only-of-type {\n",
              "        vertical-align: middle;\n",
              "    }\n",
              "\n",
              "    .dataframe tbody tr th {\n",
              "        vertical-align: top;\n",
              "    }\n",
              "\n",
              "    .dataframe thead th {\n",
              "        text-align: right;\n",
              "    }\n",
              "</style>\n",
              "<table border=\"1\" class=\"dataframe\">\n",
              "  <thead>\n",
              "    <tr style=\"text-align: right;\">\n",
              "      <th></th>\n",
              "      <th>ApplicantIncome</th>\n",
              "      <th>CoapplicantIncome</th>\n",
              "      <th>LoanAmount</th>\n",
              "      <th>Loan_Amount_Term</th>\n",
              "    </tr>\n",
              "  </thead>\n",
              "  <tbody>\n",
              "    <tr>\n",
              "      <th>0</th>\n",
              "      <td>5849.0</td>\n",
              "      <td>0.0</td>\n",
              "      <td>NaN</td>\n",
              "      <td>360.0</td>\n",
              "    </tr>\n",
              "    <tr>\n",
              "      <th>1</th>\n",
              "      <td>4583.0</td>\n",
              "      <td>1508.0</td>\n",
              "      <td>128.0</td>\n",
              "      <td>360.0</td>\n",
              "    </tr>\n",
              "    <tr>\n",
              "      <th>2</th>\n",
              "      <td>3000.0</td>\n",
              "      <td>0.0</td>\n",
              "      <td>66.0</td>\n",
              "      <td>360.0</td>\n",
              "    </tr>\n",
              "    <tr>\n",
              "      <th>3</th>\n",
              "      <td>2583.0</td>\n",
              "      <td>2358.0</td>\n",
              "      <td>120.0</td>\n",
              "      <td>360.0</td>\n",
              "    </tr>\n",
              "    <tr>\n",
              "      <th>4</th>\n",
              "      <td>6000.0</td>\n",
              "      <td>0.0</td>\n",
              "      <td>141.0</td>\n",
              "      <td>360.0</td>\n",
              "    </tr>\n",
              "  </tbody>\n",
              "</table>\n",
              "</div>"
            ],
            "text/plain": [
              "   ApplicantIncome  CoapplicantIncome  LoanAmount  Loan_Amount_Term\n",
              "0           5849.0                0.0         NaN             360.0\n",
              "1           4583.0             1508.0       128.0             360.0\n",
              "2           3000.0                0.0        66.0             360.0\n",
              "3           2583.0             2358.0       120.0             360.0\n",
              "4           6000.0                0.0       141.0             360.0"
            ]
          },
          "metadata": {},
          "execution_count": 144
        }
      ]
    },
    {
      "cell_type": "code",
      "metadata": {
        "id": "ccoOEbRaj9eB"
      },
      "source": [
        "#Thay những điểm bị miss dữ liệu bằng 1 dữ liệu phổ biến nhất của cột đó\n",
        "cat_data = cat_data.apply(lambda x:x.fillna(x.value_counts().index[0]))"
      ],
      "execution_count": null,
      "outputs": []
    },
    {
      "cell_type": "code",
      "metadata": {
        "id": "Fqpga3dBk65P"
      },
      "source": [
        "#Thay những điểm bị miss dữ liệu bằng 1 dữ liệu bằng 1 dữ liệu trước nó trong cùng 1 cột\n",
        "num_data.fillna(method='bfill', inplace=True)"
      ],
      "execution_count": null,
      "outputs": []
    },
    {
      "cell_type": "markdown",
      "metadata": {
        "id": "u-w0NbxBoRUo"
      },
      "source": [
        "IV. ĐƯA CÁC DỮ LIỆU DẠNG CHỮ VỀ SỐ PHÂN LOẠI 0, 1, 2\n"
      ]
    },
    {
      "cell_type": "code",
      "metadata": {
        "colab": {
          "base_uri": "https://localhost:8080/",
          "height": 203
        },
        "id": "rDFzpJ7olFT3",
        "outputId": "4797c775-d2ea-4e84-e2d7-26408da489a5"
      },
      "source": [
        "from sklearn.preprocessing import LabelEncoder  \n",
        "le = LabelEncoder()\n",
        "cat_data.head()"
      ],
      "execution_count": null,
      "outputs": [
        {
          "output_type": "execute_result",
          "data": {
            "text/html": [
              "<div>\n",
              "<style scoped>\n",
              "    .dataframe tbody tr th:only-of-type {\n",
              "        vertical-align: middle;\n",
              "    }\n",
              "\n",
              "    .dataframe tbody tr th {\n",
              "        vertical-align: top;\n",
              "    }\n",
              "\n",
              "    .dataframe thead th {\n",
              "        text-align: right;\n",
              "    }\n",
              "</style>\n",
              "<table border=\"1\" class=\"dataframe\">\n",
              "  <thead>\n",
              "    <tr style=\"text-align: right;\">\n",
              "      <th></th>\n",
              "      <th>Gender</th>\n",
              "      <th>Married</th>\n",
              "      <th>Dependents</th>\n",
              "      <th>Education</th>\n",
              "      <th>Self_Employed</th>\n",
              "      <th>Credit_History</th>\n",
              "      <th>Property_Area</th>\n",
              "      <th>Loan_Status</th>\n",
              "    </tr>\n",
              "  </thead>\n",
              "  <tbody>\n",
              "    <tr>\n",
              "      <th>0</th>\n",
              "      <td>Male</td>\n",
              "      <td>No</td>\n",
              "      <td>0</td>\n",
              "      <td>Graduate</td>\n",
              "      <td>No</td>\n",
              "      <td>1.0</td>\n",
              "      <td>Urban</td>\n",
              "      <td>Y</td>\n",
              "    </tr>\n",
              "    <tr>\n",
              "      <th>1</th>\n",
              "      <td>Male</td>\n",
              "      <td>Yes</td>\n",
              "      <td>1</td>\n",
              "      <td>Graduate</td>\n",
              "      <td>No</td>\n",
              "      <td>1.0</td>\n",
              "      <td>Rural</td>\n",
              "      <td>N</td>\n",
              "    </tr>\n",
              "    <tr>\n",
              "      <th>2</th>\n",
              "      <td>Male</td>\n",
              "      <td>Yes</td>\n",
              "      <td>0</td>\n",
              "      <td>Graduate</td>\n",
              "      <td>Yes</td>\n",
              "      <td>1.0</td>\n",
              "      <td>Urban</td>\n",
              "      <td>Y</td>\n",
              "    </tr>\n",
              "    <tr>\n",
              "      <th>3</th>\n",
              "      <td>Male</td>\n",
              "      <td>Yes</td>\n",
              "      <td>0</td>\n",
              "      <td>Not Graduate</td>\n",
              "      <td>No</td>\n",
              "      <td>1.0</td>\n",
              "      <td>Urban</td>\n",
              "      <td>Y</td>\n",
              "    </tr>\n",
              "    <tr>\n",
              "      <th>4</th>\n",
              "      <td>Male</td>\n",
              "      <td>No</td>\n",
              "      <td>0</td>\n",
              "      <td>Graduate</td>\n",
              "      <td>No</td>\n",
              "      <td>1.0</td>\n",
              "      <td>Urban</td>\n",
              "      <td>Y</td>\n",
              "    </tr>\n",
              "  </tbody>\n",
              "</table>\n",
              "</div>"
            ],
            "text/plain": [
              "  Gender Married Dependents  ... Credit_History Property_Area  Loan_Status\n",
              "0   Male      No          0  ...            1.0         Urban            Y\n",
              "1   Male     Yes          1  ...            1.0         Rural            N\n",
              "2   Male     Yes          0  ...            1.0         Urban            Y\n",
              "3   Male     Yes          0  ...            1.0         Urban            Y\n",
              "4   Male      No          0  ...            1.0         Urban            Y\n",
              "\n",
              "[5 rows x 8 columns]"
            ]
          },
          "metadata": {},
          "execution_count": 147
        }
      ]
    },
    {
      "cell_type": "code",
      "metadata": {
        "id": "m5iywyzYlyuE"
      },
      "source": [
        "# transform the target column\n",
        "\n",
        "target_values = {'Y': 0 , 'N' : 1}\n",
        "\n",
        "target = cat_data['Loan_Status']\n",
        "cat_data.drop('Loan_Status', axis=1, inplace=True)\n",
        "\n",
        "target = target.map(target_values)"
      ],
      "execution_count": null,
      "outputs": []
    },
    {
      "cell_type": "code",
      "metadata": {
        "id": "dYTDaPbWmYJW"
      },
      "source": [
        "# transform other columns\n",
        "\n",
        "for i in cat_data:\n",
        "    cat_data[i] = le.fit_transform(cat_data[i])"
      ],
      "execution_count": null,
      "outputs": []
    },
    {
      "cell_type": "code",
      "metadata": {
        "colab": {
          "base_uri": "https://localhost:8080/",
          "height": 203
        },
        "id": "qZw6_TyLmYF1",
        "outputId": "d1103665-9fb3-41f0-cefa-5a48e7b921aa"
      },
      "source": [
        "cat_data.head()"
      ],
      "execution_count": null,
      "outputs": [
        {
          "output_type": "execute_result",
          "data": {
            "text/html": [
              "<div>\n",
              "<style scoped>\n",
              "    .dataframe tbody tr th:only-of-type {\n",
              "        vertical-align: middle;\n",
              "    }\n",
              "\n",
              "    .dataframe tbody tr th {\n",
              "        vertical-align: top;\n",
              "    }\n",
              "\n",
              "    .dataframe thead th {\n",
              "        text-align: right;\n",
              "    }\n",
              "</style>\n",
              "<table border=\"1\" class=\"dataframe\">\n",
              "  <thead>\n",
              "    <tr style=\"text-align: right;\">\n",
              "      <th></th>\n",
              "      <th>Gender</th>\n",
              "      <th>Married</th>\n",
              "      <th>Dependents</th>\n",
              "      <th>Education</th>\n",
              "      <th>Self_Employed</th>\n",
              "      <th>Credit_History</th>\n",
              "      <th>Property_Area</th>\n",
              "    </tr>\n",
              "  </thead>\n",
              "  <tbody>\n",
              "    <tr>\n",
              "      <th>0</th>\n",
              "      <td>1</td>\n",
              "      <td>0</td>\n",
              "      <td>0</td>\n",
              "      <td>0</td>\n",
              "      <td>0</td>\n",
              "      <td>1</td>\n",
              "      <td>2</td>\n",
              "    </tr>\n",
              "    <tr>\n",
              "      <th>1</th>\n",
              "      <td>1</td>\n",
              "      <td>1</td>\n",
              "      <td>1</td>\n",
              "      <td>0</td>\n",
              "      <td>0</td>\n",
              "      <td>1</td>\n",
              "      <td>0</td>\n",
              "    </tr>\n",
              "    <tr>\n",
              "      <th>2</th>\n",
              "      <td>1</td>\n",
              "      <td>1</td>\n",
              "      <td>0</td>\n",
              "      <td>0</td>\n",
              "      <td>1</td>\n",
              "      <td>1</td>\n",
              "      <td>2</td>\n",
              "    </tr>\n",
              "    <tr>\n",
              "      <th>3</th>\n",
              "      <td>1</td>\n",
              "      <td>1</td>\n",
              "      <td>0</td>\n",
              "      <td>1</td>\n",
              "      <td>0</td>\n",
              "      <td>1</td>\n",
              "      <td>2</td>\n",
              "    </tr>\n",
              "    <tr>\n",
              "      <th>4</th>\n",
              "      <td>1</td>\n",
              "      <td>0</td>\n",
              "      <td>0</td>\n",
              "      <td>0</td>\n",
              "      <td>0</td>\n",
              "      <td>1</td>\n",
              "      <td>2</td>\n",
              "    </tr>\n",
              "  </tbody>\n",
              "</table>\n",
              "</div>"
            ],
            "text/plain": [
              "   Gender  Married  Dependents  ...  Self_Employed  Credit_History  Property_Area\n",
              "0       1        0           0  ...              0               1              2\n",
              "1       1        1           1  ...              0               1              0\n",
              "2       1        1           0  ...              1               1              2\n",
              "3       1        1           0  ...              0               1              2\n",
              "4       1        0           0  ...              0               1              2\n",
              "\n",
              "[5 rows x 7 columns]"
            ]
          },
          "metadata": {},
          "execution_count": 150
        }
      ]
    },
    {
      "cell_type": "code",
      "metadata": {
        "colab": {
          "base_uri": "https://localhost:8080/",
          "height": 203
        },
        "id": "1RptbisRmX-_",
        "outputId": "8fc06bae-1466-4fcc-f798-73c40677b543"
      },
      "source": [
        "data = pd.concat([cat_data, num_data, target], axis=1)\n",
        "data.head()\n",
        "#Male = 1, Married = 1, Graduate = 0, rural = 0, semiurban = 1, YES = 1"
      ],
      "execution_count": null,
      "outputs": [
        {
          "output_type": "execute_result",
          "data": {
            "text/html": [
              "<div>\n",
              "<style scoped>\n",
              "    .dataframe tbody tr th:only-of-type {\n",
              "        vertical-align: middle;\n",
              "    }\n",
              "\n",
              "    .dataframe tbody tr th {\n",
              "        vertical-align: top;\n",
              "    }\n",
              "\n",
              "    .dataframe thead th {\n",
              "        text-align: right;\n",
              "    }\n",
              "</style>\n",
              "<table border=\"1\" class=\"dataframe\">\n",
              "  <thead>\n",
              "    <tr style=\"text-align: right;\">\n",
              "      <th></th>\n",
              "      <th>Gender</th>\n",
              "      <th>Married</th>\n",
              "      <th>Dependents</th>\n",
              "      <th>Education</th>\n",
              "      <th>Self_Employed</th>\n",
              "      <th>Credit_History</th>\n",
              "      <th>Property_Area</th>\n",
              "      <th>ApplicantIncome</th>\n",
              "      <th>CoapplicantIncome</th>\n",
              "      <th>LoanAmount</th>\n",
              "      <th>Loan_Amount_Term</th>\n",
              "      <th>Loan_Status</th>\n",
              "    </tr>\n",
              "  </thead>\n",
              "  <tbody>\n",
              "    <tr>\n",
              "      <th>0</th>\n",
              "      <td>1</td>\n",
              "      <td>0</td>\n",
              "      <td>0</td>\n",
              "      <td>0</td>\n",
              "      <td>0</td>\n",
              "      <td>1</td>\n",
              "      <td>2</td>\n",
              "      <td>5849.0</td>\n",
              "      <td>0.0</td>\n",
              "      <td>128.0</td>\n",
              "      <td>360.0</td>\n",
              "      <td>0</td>\n",
              "    </tr>\n",
              "    <tr>\n",
              "      <th>1</th>\n",
              "      <td>1</td>\n",
              "      <td>1</td>\n",
              "      <td>1</td>\n",
              "      <td>0</td>\n",
              "      <td>0</td>\n",
              "      <td>1</td>\n",
              "      <td>0</td>\n",
              "      <td>4583.0</td>\n",
              "      <td>1508.0</td>\n",
              "      <td>128.0</td>\n",
              "      <td>360.0</td>\n",
              "      <td>1</td>\n",
              "    </tr>\n",
              "    <tr>\n",
              "      <th>2</th>\n",
              "      <td>1</td>\n",
              "      <td>1</td>\n",
              "      <td>0</td>\n",
              "      <td>0</td>\n",
              "      <td>1</td>\n",
              "      <td>1</td>\n",
              "      <td>2</td>\n",
              "      <td>3000.0</td>\n",
              "      <td>0.0</td>\n",
              "      <td>66.0</td>\n",
              "      <td>360.0</td>\n",
              "      <td>0</td>\n",
              "    </tr>\n",
              "    <tr>\n",
              "      <th>3</th>\n",
              "      <td>1</td>\n",
              "      <td>1</td>\n",
              "      <td>0</td>\n",
              "      <td>1</td>\n",
              "      <td>0</td>\n",
              "      <td>1</td>\n",
              "      <td>2</td>\n",
              "      <td>2583.0</td>\n",
              "      <td>2358.0</td>\n",
              "      <td>120.0</td>\n",
              "      <td>360.0</td>\n",
              "      <td>0</td>\n",
              "    </tr>\n",
              "    <tr>\n",
              "      <th>4</th>\n",
              "      <td>1</td>\n",
              "      <td>0</td>\n",
              "      <td>0</td>\n",
              "      <td>0</td>\n",
              "      <td>0</td>\n",
              "      <td>1</td>\n",
              "      <td>2</td>\n",
              "      <td>6000.0</td>\n",
              "      <td>0.0</td>\n",
              "      <td>141.0</td>\n",
              "      <td>360.0</td>\n",
              "      <td>0</td>\n",
              "    </tr>\n",
              "  </tbody>\n",
              "</table>\n",
              "</div>"
            ],
            "text/plain": [
              "   Gender  Married  Dependents  ...  LoanAmount  Loan_Amount_Term  Loan_Status\n",
              "0       1        0           0  ...       128.0             360.0            0\n",
              "1       1        1           1  ...       128.0             360.0            1\n",
              "2       1        1           0  ...        66.0             360.0            0\n",
              "3       1        1           0  ...       120.0             360.0            0\n",
              "4       1        0           0  ...       141.0             360.0            0\n",
              "\n",
              "[5 rows x 12 columns]"
            ]
          },
          "metadata": {},
          "execution_count": 151
        }
      ]
    },
    {
      "cell_type": "code",
      "metadata": {
        "colab": {
          "base_uri": "https://localhost:8080/",
          "height": 284
        },
        "id": "5zcAsf6GOB7h",
        "outputId": "2bc68581-9a94-44fc-db84-9bc4804156a0"
      },
      "source": [
        "corr = data.corr()\n",
        "corr.style.background_gradient(cmap='coolwarm').set_precision(2)"
      ],
      "execution_count": null,
      "outputs": [
        {
          "output_type": "execute_result",
          "data": {
            "text/html": [
              "<style  type=\"text/css\" >\n",
              "#T_4978ef84_0e50_11ec_9d52_0242ac1c0002row0_col0,#T_4978ef84_0e50_11ec_9d52_0242ac1c0002row1_col1,#T_4978ef84_0e50_11ec_9d52_0242ac1c0002row2_col2,#T_4978ef84_0e50_11ec_9d52_0242ac1c0002row3_col3,#T_4978ef84_0e50_11ec_9d52_0242ac1c0002row4_col4,#T_4978ef84_0e50_11ec_9d52_0242ac1c0002row5_col5,#T_4978ef84_0e50_11ec_9d52_0242ac1c0002row6_col6,#T_4978ef84_0e50_11ec_9d52_0242ac1c0002row7_col7,#T_4978ef84_0e50_11ec_9d52_0242ac1c0002row8_col8,#T_4978ef84_0e50_11ec_9d52_0242ac1c0002row9_col9,#T_4978ef84_0e50_11ec_9d52_0242ac1c0002row10_col10,#T_4978ef84_0e50_11ec_9d52_0242ac1c0002row11_col11{\n",
              "            background-color:  #b40426;\n",
              "            color:  #f1f1f1;\n",
              "        }#T_4978ef84_0e50_11ec_9d52_0242ac1c0002row0_col1{\n",
              "            background-color:  #c7d7f0;\n",
              "            color:  #000000;\n",
              "        }#T_4978ef84_0e50_11ec_9d52_0242ac1c0002row0_col2{\n",
              "            background-color:  #8db0fe;\n",
              "            color:  #000000;\n",
              "        }#T_4978ef84_0e50_11ec_9d52_0242ac1c0002row0_col3{\n",
              "            background-color:  #7597f6;\n",
              "            color:  #000000;\n",
              "        }#T_4978ef84_0e50_11ec_9d52_0242ac1c0002row0_col4{\n",
              "            background-color:  #445acc;\n",
              "            color:  #f1f1f1;\n",
              "        }#T_4978ef84_0e50_11ec_9d52_0242ac1c0002row0_col5,#T_4978ef84_0e50_11ec_9d52_0242ac1c0002row1_col5,#T_4978ef84_0e50_11ec_9d52_0242ac1c0002row8_col5{\n",
              "            background-color:  #b2ccfb;\n",
              "            color:  #000000;\n",
              "        }#T_4978ef84_0e50_11ec_9d52_0242ac1c0002row0_col6,#T_4978ef84_0e50_11ec_9d52_0242ac1c0002row6_col0{\n",
              "            background-color:  #485fd1;\n",
              "            color:  #f1f1f1;\n",
              "        }#T_4978ef84_0e50_11ec_9d52_0242ac1c0002row0_col7,#T_4978ef84_0e50_11ec_9d52_0242ac1c0002row1_col8{\n",
              "            background-color:  #7295f4;\n",
              "            color:  #000000;\n",
              "        }#T_4978ef84_0e50_11ec_9d52_0242ac1c0002row0_col8,#T_4978ef84_0e50_11ec_9d52_0242ac1c0002row9_col0,#T_4978ef84_0e50_11ec_9d52_0242ac1c0002row10_col9,#T_4978ef84_0e50_11ec_9d52_0242ac1c0002row11_col9{\n",
              "            background-color:  #7396f5;\n",
              "            color:  #000000;\n",
              "        }#T_4978ef84_0e50_11ec_9d52_0242ac1c0002row0_col9,#T_4978ef84_0e50_11ec_9d52_0242ac1c0002row4_col9{\n",
              "            background-color:  #8badfd;\n",
              "            color:  #000000;\n",
              "        }#T_4978ef84_0e50_11ec_9d52_0242ac1c0002row0_col10,#T_4978ef84_0e50_11ec_9d52_0242ac1c0002row3_col10,#T_4978ef84_0e50_11ec_9d52_0242ac1c0002row6_col10,#T_4978ef84_0e50_11ec_9d52_0242ac1c0002row7_col3{\n",
              "            background-color:  #4257c9;\n",
              "            color:  #f1f1f1;\n",
              "        }#T_4978ef84_0e50_11ec_9d52_0242ac1c0002row0_col11,#T_4978ef84_0e50_11ec_9d52_0242ac1c0002row7_col5{\n",
              "            background-color:  #abc8fd;\n",
              "            color:  #000000;\n",
              "        }#T_4978ef84_0e50_11ec_9d52_0242ac1c0002row1_col0,#T_4978ef84_0e50_11ec_9d52_0242ac1c0002row3_col11{\n",
              "            background-color:  #c3d5f4;\n",
              "            color:  #000000;\n",
              "        }#T_4978ef84_0e50_11ec_9d52_0242ac1c0002row1_col2,#T_4978ef84_0e50_11ec_9d52_0242ac1c0002row2_col1{\n",
              "            background-color:  #bfd3f6;\n",
              "            color:  #000000;\n",
              "        }#T_4978ef84_0e50_11ec_9d52_0242ac1c0002row1_col3,#T_4978ef84_0e50_11ec_9d52_0242ac1c0002row7_col4{\n",
              "            background-color:  #6b8df0;\n",
              "            color:  #000000;\n",
              "        }#T_4978ef84_0e50_11ec_9d52_0242ac1c0002row1_col4,#T_4978ef84_0e50_11ec_9d52_0242ac1c0002row11_col4{\n",
              "            background-color:  #455cce;\n",
              "            color:  #f1f1f1;\n",
              "        }#T_4978ef84_0e50_11ec_9d52_0242ac1c0002row1_col6,#T_4978ef84_0e50_11ec_9d52_0242ac1c0002row5_col0{\n",
              "            background-color:  #516ddb;\n",
              "            color:  #000000;\n",
              "        }#T_4978ef84_0e50_11ec_9d52_0242ac1c0002row1_col7{\n",
              "            background-color:  #7093f3;\n",
              "            color:  #000000;\n",
              "        }#T_4978ef84_0e50_11ec_9d52_0242ac1c0002row1_col9{\n",
              "            background-color:  #92b4fe;\n",
              "            color:  #000000;\n",
              "        }#T_4978ef84_0e50_11ec_9d52_0242ac1c0002row1_col10,#T_4978ef84_0e50_11ec_9d52_0242ac1c0002row2_col10,#T_4978ef84_0e50_11ec_9d52_0242ac1c0002row3_col7,#T_4978ef84_0e50_11ec_9d52_0242ac1c0002row3_col9,#T_4978ef84_0e50_11ec_9d52_0242ac1c0002row5_col11,#T_4978ef84_0e50_11ec_9d52_0242ac1c0002row6_col4,#T_4978ef84_0e50_11ec_9d52_0242ac1c0002row7_col8,#T_4978ef84_0e50_11ec_9d52_0242ac1c0002row9_col3,#T_4978ef84_0e50_11ec_9d52_0242ac1c0002row10_col0,#T_4978ef84_0e50_11ec_9d52_0242ac1c0002row10_col1,#T_4978ef84_0e50_11ec_9d52_0242ac1c0002row10_col2,#T_4978ef84_0e50_11ec_9d52_0242ac1c0002row10_col4,#T_4978ef84_0e50_11ec_9d52_0242ac1c0002row10_col6,#T_4978ef84_0e50_11ec_9d52_0242ac1c0002row11_col5{\n",
              "            background-color:  #3b4cc0;\n",
              "            color:  #f1f1f1;\n",
              "        }#T_4978ef84_0e50_11ec_9d52_0242ac1c0002row1_col11{\n",
              "            background-color:  #9bbcff;\n",
              "            color:  #000000;\n",
              "        }#T_4978ef84_0e50_11ec_9d52_0242ac1c0002row2_col0,#T_4978ef84_0e50_11ec_9d52_0242ac1c0002row2_col7{\n",
              "            background-color:  #85a8fc;\n",
              "            color:  #000000;\n",
              "        }#T_4978ef84_0e50_11ec_9d52_0242ac1c0002row2_col3{\n",
              "            background-color:  #799cf8;\n",
              "            color:  #000000;\n",
              "        }#T_4978ef84_0e50_11ec_9d52_0242ac1c0002row2_col4,#T_4978ef84_0e50_11ec_9d52_0242ac1c0002row5_col10,#T_4978ef84_0e50_11ec_9d52_0242ac1c0002row6_col3{\n",
              "            background-color:  #5572df;\n",
              "            color:  #000000;\n",
              "        }#T_4978ef84_0e50_11ec_9d52_0242ac1c0002row2_col5{\n",
              "            background-color:  #a7c5fe;\n",
              "            color:  #000000;\n",
              "        }#T_4978ef84_0e50_11ec_9d52_0242ac1c0002row2_col6,#T_4978ef84_0e50_11ec_9d52_0242ac1c0002row5_col6{\n",
              "            background-color:  #506bda;\n",
              "            color:  #000000;\n",
              "        }#T_4978ef84_0e50_11ec_9d52_0242ac1c0002row2_col8,#T_4978ef84_0e50_11ec_9d52_0242ac1c0002row9_col10{\n",
              "            background-color:  #6384eb;\n",
              "            color:  #000000;\n",
              "        }#T_4978ef84_0e50_11ec_9d52_0242ac1c0002row2_col9{\n",
              "            background-color:  #97b8ff;\n",
              "            color:  #000000;\n",
              "        }#T_4978ef84_0e50_11ec_9d52_0242ac1c0002row2_col11{\n",
              "            background-color:  #aec9fc;\n",
              "            color:  #000000;\n",
              "        }#T_4978ef84_0e50_11ec_9d52_0242ac1c0002row3_col0{\n",
              "            background-color:  #5d7ce6;\n",
              "            color:  #000000;\n",
              "        }#T_4978ef84_0e50_11ec_9d52_0242ac1c0002row3_col1,#T_4978ef84_0e50_11ec_9d52_0242ac1c0002row5_col1{\n",
              "            background-color:  #5a78e4;\n",
              "            color:  #000000;\n",
              "        }#T_4978ef84_0e50_11ec_9d52_0242ac1c0002row3_col2,#T_4978ef84_0e50_11ec_9d52_0242ac1c0002row4_col2,#T_4978ef84_0e50_11ec_9d52_0242ac1c0002row5_col9,#T_4978ef84_0e50_11ec_9d52_0242ac1c0002row8_col0{\n",
              "            background-color:  #688aef;\n",
              "            color:  #000000;\n",
              "        }#T_4978ef84_0e50_11ec_9d52_0242ac1c0002row3_col4,#T_4978ef84_0e50_11ec_9d52_0242ac1c0002row8_col7{\n",
              "            background-color:  #4055c8;\n",
              "            color:  #f1f1f1;\n",
              "        }#T_4978ef84_0e50_11ec_9d52_0242ac1c0002row3_col5{\n",
              "            background-color:  #9fbfff;\n",
              "            color:  #000000;\n",
              "        }#T_4978ef84_0e50_11ec_9d52_0242ac1c0002row3_col6,#T_4978ef84_0e50_11ec_9d52_0242ac1c0002row11_col1{\n",
              "            background-color:  #3d50c3;\n",
              "            color:  #f1f1f1;\n",
              "        }#T_4978ef84_0e50_11ec_9d52_0242ac1c0002row3_col8{\n",
              "            background-color:  #4961d2;\n",
              "            color:  #f1f1f1;\n",
              "        }#T_4978ef84_0e50_11ec_9d52_0242ac1c0002row4_col0{\n",
              "            background-color:  #4f69d9;\n",
              "            color:  #000000;\n",
              "        }#T_4978ef84_0e50_11ec_9d52_0242ac1c0002row4_col1,#T_4978ef84_0e50_11ec_9d52_0242ac1c0002row6_col1,#T_4978ef84_0e50_11ec_9d52_0242ac1c0002row6_col2{\n",
              "            background-color:  #5875e1;\n",
              "            color:  #000000;\n",
              "        }#T_4978ef84_0e50_11ec_9d52_0242ac1c0002row4_col3{\n",
              "            background-color:  #6485ec;\n",
              "            color:  #000000;\n",
              "        }#T_4978ef84_0e50_11ec_9d52_0242ac1c0002row4_col5,#T_4978ef84_0e50_11ec_9d52_0242ac1c0002row10_col5{\n",
              "            background-color:  #afcafc;\n",
              "            color:  #000000;\n",
              "        }#T_4978ef84_0e50_11ec_9d52_0242ac1c0002row4_col6,#T_4978ef84_0e50_11ec_9d52_0242ac1c0002row8_col10,#T_4978ef84_0e50_11ec_9d52_0242ac1c0002row11_col6{\n",
              "            background-color:  #465ecf;\n",
              "            color:  #f1f1f1;\n",
              "        }#T_4978ef84_0e50_11ec_9d52_0242ac1c0002row4_col7,#T_4978ef84_0e50_11ec_9d52_0242ac1c0002row9_col2{\n",
              "            background-color:  #88abfd;\n",
              "            color:  #000000;\n",
              "        }#T_4978ef84_0e50_11ec_9d52_0242ac1c0002row4_col8,#T_4978ef84_0e50_11ec_9d52_0242ac1c0002row8_col3{\n",
              "            background-color:  #5673e0;\n",
              "            color:  #000000;\n",
              "        }#T_4978ef84_0e50_11ec_9d52_0242ac1c0002row4_col10{\n",
              "            background-color:  #4e68d8;\n",
              "            color:  #000000;\n",
              "        }#T_4978ef84_0e50_11ec_9d52_0242ac1c0002row4_col11,#T_4978ef84_0e50_11ec_9d52_0242ac1c0002row6_col5,#T_4978ef84_0e50_11ec_9d52_0242ac1c0002row7_col11,#T_4978ef84_0e50_11ec_9d52_0242ac1c0002row9_col5{\n",
              "            background-color:  #b1cbfc;\n",
              "            color:  #000000;\n",
              "        }#T_4978ef84_0e50_11ec_9d52_0242ac1c0002row5_col2{\n",
              "            background-color:  #4b64d5;\n",
              "            color:  #f1f1f1;\n",
              "        }#T_4978ef84_0e50_11ec_9d52_0242ac1c0002row5_col3,#T_4978ef84_0e50_11ec_9d52_0242ac1c0002row8_col6,#T_4978ef84_0e50_11ec_9d52_0242ac1c0002row10_col3{\n",
              "            background-color:  #536edd;\n",
              "            color:  #000000;\n",
              "        }#T_4978ef84_0e50_11ec_9d52_0242ac1c0002row5_col4,#T_4978ef84_0e50_11ec_9d52_0242ac1c0002row9_col6{\n",
              "            background-color:  #4358cb;\n",
              "            color:  #f1f1f1;\n",
              "        }#T_4978ef84_0e50_11ec_9d52_0242ac1c0002row5_col7,#T_4978ef84_0e50_11ec_9d52_0242ac1c0002row6_col9{\n",
              "            background-color:  #5b7ae5;\n",
              "            color:  #000000;\n",
              "        }#T_4978ef84_0e50_11ec_9d52_0242ac1c0002row5_col8,#T_4978ef84_0e50_11ec_9d52_0242ac1c0002row6_col7,#T_4978ef84_0e50_11ec_9d52_0242ac1c0002row6_col8,#T_4978ef84_0e50_11ec_9d52_0242ac1c0002row11_col10{\n",
              "            background-color:  #5e7de7;\n",
              "            color:  #000000;\n",
              "        }#T_4978ef84_0e50_11ec_9d52_0242ac1c0002row6_col11{\n",
              "            background-color:  #a9c6fd;\n",
              "            color:  #000000;\n",
              "        }#T_4978ef84_0e50_11ec_9d52_0242ac1c0002row7_col0,#T_4978ef84_0e50_11ec_9d52_0242ac1c0002row8_col2{\n",
              "            background-color:  #6180e9;\n",
              "            color:  #000000;\n",
              "        }#T_4978ef84_0e50_11ec_9d52_0242ac1c0002row7_col1{\n",
              "            background-color:  #6687ed;\n",
              "            color:  #000000;\n",
              "        }#T_4978ef84_0e50_11ec_9d52_0242ac1c0002row7_col2{\n",
              "            background-color:  #7b9ff9;\n",
              "            color:  #000000;\n",
              "        }#T_4978ef84_0e50_11ec_9d52_0242ac1c0002row7_col6{\n",
              "            background-color:  #4c66d6;\n",
              "            color:  #000000;\n",
              "        }#T_4978ef84_0e50_11ec_9d52_0242ac1c0002row7_col9{\n",
              "            background-color:  #f4c6af;\n",
              "            color:  #000000;\n",
              "        }#T_4978ef84_0e50_11ec_9d52_0242ac1c0002row7_col10,#T_4978ef84_0e50_11ec_9d52_0242ac1c0002row10_col8,#T_4978ef84_0e50_11ec_9d52_0242ac1c0002row11_col0{\n",
              "            background-color:  #4a63d3;\n",
              "            color:  #f1f1f1;\n",
              "        }#T_4978ef84_0e50_11ec_9d52_0242ac1c0002row8_col1{\n",
              "            background-color:  #6e90f2;\n",
              "            color:  #000000;\n",
              "        }#T_4978ef84_0e50_11ec_9d52_0242ac1c0002row8_col4{\n",
              "            background-color:  #3f53c6;\n",
              "            color:  #f1f1f1;\n",
              "        }#T_4978ef84_0e50_11ec_9d52_0242ac1c0002row8_col9{\n",
              "            background-color:  #a1c0ff;\n",
              "            color:  #000000;\n",
              "        }#T_4978ef84_0e50_11ec_9d52_0242ac1c0002row8_col11{\n",
              "            background-color:  #bcd2f7;\n",
              "            color:  #000000;\n",
              "        }#T_4978ef84_0e50_11ec_9d52_0242ac1c0002row9_col1{\n",
              "            background-color:  #82a6fb;\n",
              "            color:  #000000;\n",
              "        }#T_4978ef84_0e50_11ec_9d52_0242ac1c0002row9_col4{\n",
              "            background-color:  #6788ee;\n",
              "            color:  #000000;\n",
              "        }#T_4978ef84_0e50_11ec_9d52_0242ac1c0002row9_col7{\n",
              "            background-color:  #f3c8b2;\n",
              "            color:  #000000;\n",
              "        }#T_4978ef84_0e50_11ec_9d52_0242ac1c0002row9_col8{\n",
              "            background-color:  #96b7ff;\n",
              "            color:  #000000;\n",
              "        }#T_4978ef84_0e50_11ec_9d52_0242ac1c0002row9_col11{\n",
              "            background-color:  #b9d0f9;\n",
              "            color:  #000000;\n",
              "        }#T_4978ef84_0e50_11ec_9d52_0242ac1c0002row10_col7,#T_4978ef84_0e50_11ec_9d52_0242ac1c0002row11_col2{\n",
              "            background-color:  #5470de;\n",
              "            color:  #000000;\n",
              "        }#T_4978ef84_0e50_11ec_9d52_0242ac1c0002row10_col11{\n",
              "            background-color:  #b5cdfa;\n",
              "            color:  #000000;\n",
              "        }#T_4978ef84_0e50_11ec_9d52_0242ac1c0002row11_col3{\n",
              "            background-color:  #81a4fb;\n",
              "            color:  #000000;\n",
              "        }#T_4978ef84_0e50_11ec_9d52_0242ac1c0002row11_col7{\n",
              "            background-color:  #6282ea;\n",
              "            color:  #000000;\n",
              "        }#T_4978ef84_0e50_11ec_9d52_0242ac1c0002row11_col8{\n",
              "            background-color:  #6c8ff1;\n",
              "            color:  #000000;\n",
              "        }</style><table id=\"T_4978ef84_0e50_11ec_9d52_0242ac1c0002\" ><thead>    <tr>        <th class=\"blank level0\" ></th>        <th class=\"col_heading level0 col0\" >Gender</th>        <th class=\"col_heading level0 col1\" >Married</th>        <th class=\"col_heading level0 col2\" >Dependents</th>        <th class=\"col_heading level0 col3\" >Education</th>        <th class=\"col_heading level0 col4\" >Self_Employed</th>        <th class=\"col_heading level0 col5\" >Credit_History</th>        <th class=\"col_heading level0 col6\" >Property_Area</th>        <th class=\"col_heading level0 col7\" >ApplicantIncome</th>        <th class=\"col_heading level0 col8\" >CoapplicantIncome</th>        <th class=\"col_heading level0 col9\" >LoanAmount</th>        <th class=\"col_heading level0 col10\" >Loan_Amount_Term</th>        <th class=\"col_heading level0 col11\" >Loan_Status</th>    </tr></thead><tbody>\n",
              "                <tr>\n",
              "                        <th id=\"T_4978ef84_0e50_11ec_9d52_0242ac1c0002level0_row0\" class=\"row_heading level0 row0\" >Gender</th>\n",
              "                        <td id=\"T_4978ef84_0e50_11ec_9d52_0242ac1c0002row0_col0\" class=\"data row0 col0\" >1.00</td>\n",
              "                        <td id=\"T_4978ef84_0e50_11ec_9d52_0242ac1c0002row0_col1\" class=\"data row0 col1\" >0.36</td>\n",
              "                        <td id=\"T_4978ef84_0e50_11ec_9d52_0242ac1c0002row0_col2\" class=\"data row0 col2\" >0.17</td>\n",
              "                        <td id=\"T_4978ef84_0e50_11ec_9d52_0242ac1c0002row0_col3\" class=\"data row0 col3\" >0.05</td>\n",
              "                        <td id=\"T_4978ef84_0e50_11ec_9d52_0242ac1c0002row0_col4\" class=\"data row0 col4\" >-0.00</td>\n",
              "                        <td id=\"T_4978ef84_0e50_11ec_9d52_0242ac1c0002row0_col5\" class=\"data row0 col5\" >0.01</td>\n",
              "                        <td id=\"T_4978ef84_0e50_11ec_9d52_0242ac1c0002row0_col6\" class=\"data row0 col6\" >-0.03</td>\n",
              "                        <td id=\"T_4978ef84_0e50_11ec_9d52_0242ac1c0002row0_col7\" class=\"data row0 col7\" >0.06</td>\n",
              "                        <td id=\"T_4978ef84_0e50_11ec_9d52_0242ac1c0002row0_col8\" class=\"data row0 col8\" >0.08</td>\n",
              "                        <td id=\"T_4978ef84_0e50_11ec_9d52_0242ac1c0002row0_col9\" class=\"data row0 col9\" >0.12</td>\n",
              "                        <td id=\"T_4978ef84_0e50_11ec_9d52_0242ac1c0002row0_col10\" class=\"data row0 col10\" >-0.07</td>\n",
              "                        <td id=\"T_4978ef84_0e50_11ec_9d52_0242ac1c0002row0_col11\" class=\"data row0 col11\" >-0.02</td>\n",
              "            </tr>\n",
              "            <tr>\n",
              "                        <th id=\"T_4978ef84_0e50_11ec_9d52_0242ac1c0002level0_row1\" class=\"row_heading level0 row1\" >Married</th>\n",
              "                        <td id=\"T_4978ef84_0e50_11ec_9d52_0242ac1c0002row1_col0\" class=\"data row1 col0\" >0.36</td>\n",
              "                        <td id=\"T_4978ef84_0e50_11ec_9d52_0242ac1c0002row1_col1\" class=\"data row1 col1\" >1.00</td>\n",
              "                        <td id=\"T_4978ef84_0e50_11ec_9d52_0242ac1c0002row1_col2\" class=\"data row1 col2\" >0.33</td>\n",
              "                        <td id=\"T_4978ef84_0e50_11ec_9d52_0242ac1c0002row1_col3\" class=\"data row1 col3\" >0.01</td>\n",
              "                        <td id=\"T_4978ef84_0e50_11ec_9d52_0242ac1c0002row1_col4\" class=\"data row1 col4\" >0.00</td>\n",
              "                        <td id=\"T_4978ef84_0e50_11ec_9d52_0242ac1c0002row1_col5\" class=\"data row1 col5\" >0.01</td>\n",
              "                        <td id=\"T_4978ef84_0e50_11ec_9d52_0242ac1c0002row1_col6\" class=\"data row1 col6\" >0.00</td>\n",
              "                        <td id=\"T_4978ef84_0e50_11ec_9d52_0242ac1c0002row1_col7\" class=\"data row1 col7\" >0.05</td>\n",
              "                        <td id=\"T_4978ef84_0e50_11ec_9d52_0242ac1c0002row1_col8\" class=\"data row1 col8\" >0.08</td>\n",
              "                        <td id=\"T_4978ef84_0e50_11ec_9d52_0242ac1c0002row1_col9\" class=\"data row1 col9\" >0.14</td>\n",
              "                        <td id=\"T_4978ef84_0e50_11ec_9d52_0242ac1c0002row1_col10\" class=\"data row1 col10\" >-0.10</td>\n",
              "                        <td id=\"T_4978ef84_0e50_11ec_9d52_0242ac1c0002row1_col11\" class=\"data row1 col11\" >-0.09</td>\n",
              "            </tr>\n",
              "            <tr>\n",
              "                        <th id=\"T_4978ef84_0e50_11ec_9d52_0242ac1c0002level0_row2\" class=\"row_heading level0 row2\" >Dependents</th>\n",
              "                        <td id=\"T_4978ef84_0e50_11ec_9d52_0242ac1c0002row2_col0\" class=\"data row2 col0\" >0.17</td>\n",
              "                        <td id=\"T_4978ef84_0e50_11ec_9d52_0242ac1c0002row2_col1\" class=\"data row2 col1\" >0.33</td>\n",
              "                        <td id=\"T_4978ef84_0e50_11ec_9d52_0242ac1c0002row2_col2\" class=\"data row2 col2\" >1.00</td>\n",
              "                        <td id=\"T_4978ef84_0e50_11ec_9d52_0242ac1c0002row2_col3\" class=\"data row2 col3\" >0.06</td>\n",
              "                        <td id=\"T_4978ef84_0e50_11ec_9d52_0242ac1c0002row2_col4\" class=\"data row2 col4\" >0.06</td>\n",
              "                        <td id=\"T_4978ef84_0e50_11ec_9d52_0242ac1c0002row2_col5\" class=\"data row2 col5\" >-0.04</td>\n",
              "                        <td id=\"T_4978ef84_0e50_11ec_9d52_0242ac1c0002row2_col6\" class=\"data row2 col6\" >-0.00</td>\n",
              "                        <td id=\"T_4978ef84_0e50_11ec_9d52_0242ac1c0002row2_col7\" class=\"data row2 col7\" >0.12</td>\n",
              "                        <td id=\"T_4978ef84_0e50_11ec_9d52_0242ac1c0002row2_col8\" class=\"data row2 col8\" >0.03</td>\n",
              "                        <td id=\"T_4978ef84_0e50_11ec_9d52_0242ac1c0002row2_col9\" class=\"data row2 col9\" >0.16</td>\n",
              "                        <td id=\"T_4978ef84_0e50_11ec_9d52_0242ac1c0002row2_col10\" class=\"data row2 col10\" >-0.10</td>\n",
              "                        <td id=\"T_4978ef84_0e50_11ec_9d52_0242ac1c0002row2_col11\" class=\"data row2 col11\" >-0.01</td>\n",
              "            </tr>\n",
              "            <tr>\n",
              "                        <th id=\"T_4978ef84_0e50_11ec_9d52_0242ac1c0002level0_row3\" class=\"row_heading level0 row3\" >Education</th>\n",
              "                        <td id=\"T_4978ef84_0e50_11ec_9d52_0242ac1c0002row3_col0\" class=\"data row3 col0\" >0.05</td>\n",
              "                        <td id=\"T_4978ef84_0e50_11ec_9d52_0242ac1c0002row3_col1\" class=\"data row3 col1\" >0.01</td>\n",
              "                        <td id=\"T_4978ef84_0e50_11ec_9d52_0242ac1c0002row3_col2\" class=\"data row3 col2\" >0.06</td>\n",
              "                        <td id=\"T_4978ef84_0e50_11ec_9d52_0242ac1c0002row3_col3\" class=\"data row3 col3\" >1.00</td>\n",
              "                        <td id=\"T_4978ef84_0e50_11ec_9d52_0242ac1c0002row3_col4\" class=\"data row3 col4\" >-0.01</td>\n",
              "                        <td id=\"T_4978ef84_0e50_11ec_9d52_0242ac1c0002row3_col5\" class=\"data row3 col5\" >-0.07</td>\n",
              "                        <td id=\"T_4978ef84_0e50_11ec_9d52_0242ac1c0002row3_col6\" class=\"data row3 col6\" >-0.07</td>\n",
              "                        <td id=\"T_4978ef84_0e50_11ec_9d52_0242ac1c0002row3_col7\" class=\"data row3 col7\" >-0.14</td>\n",
              "                        <td id=\"T_4978ef84_0e50_11ec_9d52_0242ac1c0002row3_col8\" class=\"data row3 col8\" >-0.06</td>\n",
              "                        <td id=\"T_4978ef84_0e50_11ec_9d52_0242ac1c0002row3_col9\" class=\"data row3 col9\" >-0.17</td>\n",
              "                        <td id=\"T_4978ef84_0e50_11ec_9d52_0242ac1c0002row3_col10\" class=\"data row3 col10\" >-0.07</td>\n",
              "                        <td id=\"T_4978ef84_0e50_11ec_9d52_0242ac1c0002row3_col11\" class=\"data row3 col11\" >0.09</td>\n",
              "            </tr>\n",
              "            <tr>\n",
              "                        <th id=\"T_4978ef84_0e50_11ec_9d52_0242ac1c0002level0_row4\" class=\"row_heading level0 row4\" >Self_Employed</th>\n",
              "                        <td id=\"T_4978ef84_0e50_11ec_9d52_0242ac1c0002row4_col0\" class=\"data row4 col0\" >-0.00</td>\n",
              "                        <td id=\"T_4978ef84_0e50_11ec_9d52_0242ac1c0002row4_col1\" class=\"data row4 col1\" >0.00</td>\n",
              "                        <td id=\"T_4978ef84_0e50_11ec_9d52_0242ac1c0002row4_col2\" class=\"data row4 col2\" >0.06</td>\n",
              "                        <td id=\"T_4978ef84_0e50_11ec_9d52_0242ac1c0002row4_col3\" class=\"data row4 col3\" >-0.01</td>\n",
              "                        <td id=\"T_4978ef84_0e50_11ec_9d52_0242ac1c0002row4_col4\" class=\"data row4 col4\" >1.00</td>\n",
              "                        <td id=\"T_4978ef84_0e50_11ec_9d52_0242ac1c0002row4_col5\" class=\"data row4 col5\" >-0.00</td>\n",
              "                        <td id=\"T_4978ef84_0e50_11ec_9d52_0242ac1c0002row4_col6\" class=\"data row4 col6\" >-0.03</td>\n",
              "                        <td id=\"T_4978ef84_0e50_11ec_9d52_0242ac1c0002row4_col7\" class=\"data row4 col7\" >0.13</td>\n",
              "                        <td id=\"T_4978ef84_0e50_11ec_9d52_0242ac1c0002row4_col8\" class=\"data row4 col8\" >-0.02</td>\n",
              "                        <td id=\"T_4978ef84_0e50_11ec_9d52_0242ac1c0002row4_col9\" class=\"data row4 col9\" >0.11</td>\n",
              "                        <td id=\"T_4978ef84_0e50_11ec_9d52_0242ac1c0002row4_col10\" class=\"data row4 col10\" >-0.03</td>\n",
              "                        <td id=\"T_4978ef84_0e50_11ec_9d52_0242ac1c0002row4_col11\" class=\"data row4 col11\" >0.00</td>\n",
              "            </tr>\n",
              "            <tr>\n",
              "                        <th id=\"T_4978ef84_0e50_11ec_9d52_0242ac1c0002level0_row5\" class=\"row_heading level0 row5\" >Credit_History</th>\n",
              "                        <td id=\"T_4978ef84_0e50_11ec_9d52_0242ac1c0002row5_col0\" class=\"data row5 col0\" >0.01</td>\n",
              "                        <td id=\"T_4978ef84_0e50_11ec_9d52_0242ac1c0002row5_col1\" class=\"data row5 col1\" >0.01</td>\n",
              "                        <td id=\"T_4978ef84_0e50_11ec_9d52_0242ac1c0002row5_col2\" class=\"data row5 col2\" >-0.04</td>\n",
              "                        <td id=\"T_4978ef84_0e50_11ec_9d52_0242ac1c0002row5_col3\" class=\"data row5 col3\" >-0.07</td>\n",
              "                        <td id=\"T_4978ef84_0e50_11ec_9d52_0242ac1c0002row5_col4\" class=\"data row5 col4\" >-0.00</td>\n",
              "                        <td id=\"T_4978ef84_0e50_11ec_9d52_0242ac1c0002row5_col5\" class=\"data row5 col5\" >1.00</td>\n",
              "                        <td id=\"T_4978ef84_0e50_11ec_9d52_0242ac1c0002row5_col6\" class=\"data row5 col6\" >0.00</td>\n",
              "                        <td id=\"T_4978ef84_0e50_11ec_9d52_0242ac1c0002row5_col7\" class=\"data row5 col7\" >-0.02</td>\n",
              "                        <td id=\"T_4978ef84_0e50_11ec_9d52_0242ac1c0002row5_col8\" class=\"data row5 col8\" >0.01</td>\n",
              "                        <td id=\"T_4978ef84_0e50_11ec_9d52_0242ac1c0002row5_col9\" class=\"data row5 col9\" >0.00</td>\n",
              "                        <td id=\"T_4978ef84_0e50_11ec_9d52_0242ac1c0002row5_col10\" class=\"data row5 col10\" >-0.00</td>\n",
              "                        <td id=\"T_4978ef84_0e50_11ec_9d52_0242ac1c0002row5_col11\" class=\"data row5 col11\" >-0.54</td>\n",
              "            </tr>\n",
              "            <tr>\n",
              "                        <th id=\"T_4978ef84_0e50_11ec_9d52_0242ac1c0002level0_row6\" class=\"row_heading level0 row6\" >Property_Area</th>\n",
              "                        <td id=\"T_4978ef84_0e50_11ec_9d52_0242ac1c0002row6_col0\" class=\"data row6 col0\" >-0.03</td>\n",
              "                        <td id=\"T_4978ef84_0e50_11ec_9d52_0242ac1c0002row6_col1\" class=\"data row6 col1\" >0.00</td>\n",
              "                        <td id=\"T_4978ef84_0e50_11ec_9d52_0242ac1c0002row6_col2\" class=\"data row6 col2\" >-0.00</td>\n",
              "                        <td id=\"T_4978ef84_0e50_11ec_9d52_0242ac1c0002row6_col3\" class=\"data row6 col3\" >-0.07</td>\n",
              "                        <td id=\"T_4978ef84_0e50_11ec_9d52_0242ac1c0002row6_col4\" class=\"data row6 col4\" >-0.03</td>\n",
              "                        <td id=\"T_4978ef84_0e50_11ec_9d52_0242ac1c0002row6_col5\" class=\"data row6 col5\" >0.00</td>\n",
              "                        <td id=\"T_4978ef84_0e50_11ec_9d52_0242ac1c0002row6_col6\" class=\"data row6 col6\" >1.00</td>\n",
              "                        <td id=\"T_4978ef84_0e50_11ec_9d52_0242ac1c0002row6_col7\" class=\"data row6 col7\" >-0.01</td>\n",
              "                        <td id=\"T_4978ef84_0e50_11ec_9d52_0242ac1c0002row6_col8\" class=\"data row6 col8\" >0.01</td>\n",
              "                        <td id=\"T_4978ef84_0e50_11ec_9d52_0242ac1c0002row6_col9\" class=\"data row6 col9\" >-0.05</td>\n",
              "                        <td id=\"T_4978ef84_0e50_11ec_9d52_0242ac1c0002row6_col10\" class=\"data row6 col10\" >-0.08</td>\n",
              "                        <td id=\"T_4978ef84_0e50_11ec_9d52_0242ac1c0002row6_col11\" class=\"data row6 col11\" >-0.03</td>\n",
              "            </tr>\n",
              "            <tr>\n",
              "                        <th id=\"T_4978ef84_0e50_11ec_9d52_0242ac1c0002level0_row7\" class=\"row_heading level0 row7\" >ApplicantIncome</th>\n",
              "                        <td id=\"T_4978ef84_0e50_11ec_9d52_0242ac1c0002row7_col0\" class=\"data row7 col0\" >0.06</td>\n",
              "                        <td id=\"T_4978ef84_0e50_11ec_9d52_0242ac1c0002row7_col1\" class=\"data row7 col1\" >0.05</td>\n",
              "                        <td id=\"T_4978ef84_0e50_11ec_9d52_0242ac1c0002row7_col2\" class=\"data row7 col2\" >0.12</td>\n",
              "                        <td id=\"T_4978ef84_0e50_11ec_9d52_0242ac1c0002row7_col3\" class=\"data row7 col3\" >-0.14</td>\n",
              "                        <td id=\"T_4978ef84_0e50_11ec_9d52_0242ac1c0002row7_col4\" class=\"data row7 col4\" >0.13</td>\n",
              "                        <td id=\"T_4978ef84_0e50_11ec_9d52_0242ac1c0002row7_col5\" class=\"data row7 col5\" >-0.02</td>\n",
              "                        <td id=\"T_4978ef84_0e50_11ec_9d52_0242ac1c0002row7_col6\" class=\"data row7 col6\" >-0.01</td>\n",
              "                        <td id=\"T_4978ef84_0e50_11ec_9d52_0242ac1c0002row7_col7\" class=\"data row7 col7\" >1.00</td>\n",
              "                        <td id=\"T_4978ef84_0e50_11ec_9d52_0242ac1c0002row7_col8\" class=\"data row7 col8\" >-0.12</td>\n",
              "                        <td id=\"T_4978ef84_0e50_11ec_9d52_0242ac1c0002row7_col9\" class=\"data row7 col9\" >0.56</td>\n",
              "                        <td id=\"T_4978ef84_0e50_11ec_9d52_0242ac1c0002row7_col10\" class=\"data row7 col10\" >-0.05</td>\n",
              "                        <td id=\"T_4978ef84_0e50_11ec_9d52_0242ac1c0002row7_col11\" class=\"data row7 col11\" >0.00</td>\n",
              "            </tr>\n",
              "            <tr>\n",
              "                        <th id=\"T_4978ef84_0e50_11ec_9d52_0242ac1c0002level0_row8\" class=\"row_heading level0 row8\" >CoapplicantIncome</th>\n",
              "                        <td id=\"T_4978ef84_0e50_11ec_9d52_0242ac1c0002row8_col0\" class=\"data row8 col0\" >0.08</td>\n",
              "                        <td id=\"T_4978ef84_0e50_11ec_9d52_0242ac1c0002row8_col1\" class=\"data row8 col1\" >0.08</td>\n",
              "                        <td id=\"T_4978ef84_0e50_11ec_9d52_0242ac1c0002row8_col2\" class=\"data row8 col2\" >0.03</td>\n",
              "                        <td id=\"T_4978ef84_0e50_11ec_9d52_0242ac1c0002row8_col3\" class=\"data row8 col3\" >-0.06</td>\n",
              "                        <td id=\"T_4978ef84_0e50_11ec_9d52_0242ac1c0002row8_col4\" class=\"data row8 col4\" >-0.02</td>\n",
              "                        <td id=\"T_4978ef84_0e50_11ec_9d52_0242ac1c0002row8_col5\" class=\"data row8 col5\" >0.01</td>\n",
              "                        <td id=\"T_4978ef84_0e50_11ec_9d52_0242ac1c0002row8_col6\" class=\"data row8 col6\" >0.01</td>\n",
              "                        <td id=\"T_4978ef84_0e50_11ec_9d52_0242ac1c0002row8_col7\" class=\"data row8 col7\" >-0.12</td>\n",
              "                        <td id=\"T_4978ef84_0e50_11ec_9d52_0242ac1c0002row8_col8\" class=\"data row8 col8\" >1.00</td>\n",
              "                        <td id=\"T_4978ef84_0e50_11ec_9d52_0242ac1c0002row8_col9\" class=\"data row8 col9\" >0.19</td>\n",
              "                        <td id=\"T_4978ef84_0e50_11ec_9d52_0242ac1c0002row8_col10\" class=\"data row8 col10\" >-0.06</td>\n",
              "                        <td id=\"T_4978ef84_0e50_11ec_9d52_0242ac1c0002row8_col11\" class=\"data row8 col11\" >0.06</td>\n",
              "            </tr>\n",
              "            <tr>\n",
              "                        <th id=\"T_4978ef84_0e50_11ec_9d52_0242ac1c0002level0_row9\" class=\"row_heading level0 row9\" >LoanAmount</th>\n",
              "                        <td id=\"T_4978ef84_0e50_11ec_9d52_0242ac1c0002row9_col0\" class=\"data row9 col0\" >0.12</td>\n",
              "                        <td id=\"T_4978ef84_0e50_11ec_9d52_0242ac1c0002row9_col1\" class=\"data row9 col1\" >0.14</td>\n",
              "                        <td id=\"T_4978ef84_0e50_11ec_9d52_0242ac1c0002row9_col2\" class=\"data row9 col2\" >0.16</td>\n",
              "                        <td id=\"T_4978ef84_0e50_11ec_9d52_0242ac1c0002row9_col3\" class=\"data row9 col3\" >-0.17</td>\n",
              "                        <td id=\"T_4978ef84_0e50_11ec_9d52_0242ac1c0002row9_col4\" class=\"data row9 col4\" >0.11</td>\n",
              "                        <td id=\"T_4978ef84_0e50_11ec_9d52_0242ac1c0002row9_col5\" class=\"data row9 col5\" >0.00</td>\n",
              "                        <td id=\"T_4978ef84_0e50_11ec_9d52_0242ac1c0002row9_col6\" class=\"data row9 col6\" >-0.05</td>\n",
              "                        <td id=\"T_4978ef84_0e50_11ec_9d52_0242ac1c0002row9_col7\" class=\"data row9 col7\" >0.56</td>\n",
              "                        <td id=\"T_4978ef84_0e50_11ec_9d52_0242ac1c0002row9_col8\" class=\"data row9 col8\" >0.19</td>\n",
              "                        <td id=\"T_4978ef84_0e50_11ec_9d52_0242ac1c0002row9_col9\" class=\"data row9 col9\" >1.00</td>\n",
              "                        <td id=\"T_4978ef84_0e50_11ec_9d52_0242ac1c0002row9_col10\" class=\"data row9 col10\" >0.04</td>\n",
              "                        <td id=\"T_4978ef84_0e50_11ec_9d52_0242ac1c0002row9_col11\" class=\"data row9 col11\" >0.04</td>\n",
              "            </tr>\n",
              "            <tr>\n",
              "                        <th id=\"T_4978ef84_0e50_11ec_9d52_0242ac1c0002level0_row10\" class=\"row_heading level0 row10\" >Loan_Amount_Term</th>\n",
              "                        <td id=\"T_4978ef84_0e50_11ec_9d52_0242ac1c0002row10_col0\" class=\"data row10 col0\" >-0.07</td>\n",
              "                        <td id=\"T_4978ef84_0e50_11ec_9d52_0242ac1c0002row10_col1\" class=\"data row10 col1\" >-0.10</td>\n",
              "                        <td id=\"T_4978ef84_0e50_11ec_9d52_0242ac1c0002row10_col2\" class=\"data row10 col2\" >-0.10</td>\n",
              "                        <td id=\"T_4978ef84_0e50_11ec_9d52_0242ac1c0002row10_col3\" class=\"data row10 col3\" >-0.07</td>\n",
              "                        <td id=\"T_4978ef84_0e50_11ec_9d52_0242ac1c0002row10_col4\" class=\"data row10 col4\" >-0.03</td>\n",
              "                        <td id=\"T_4978ef84_0e50_11ec_9d52_0242ac1c0002row10_col5\" class=\"data row10 col5\" >-0.00</td>\n",
              "                        <td id=\"T_4978ef84_0e50_11ec_9d52_0242ac1c0002row10_col6\" class=\"data row10 col6\" >-0.08</td>\n",
              "                        <td id=\"T_4978ef84_0e50_11ec_9d52_0242ac1c0002row10_col7\" class=\"data row10 col7\" >-0.05</td>\n",
              "                        <td id=\"T_4978ef84_0e50_11ec_9d52_0242ac1c0002row10_col8\" class=\"data row10 col8\" >-0.06</td>\n",
              "                        <td id=\"T_4978ef84_0e50_11ec_9d52_0242ac1c0002row10_col9\" class=\"data row10 col9\" >0.04</td>\n",
              "                        <td id=\"T_4978ef84_0e50_11ec_9d52_0242ac1c0002row10_col10\" class=\"data row10 col10\" >1.00</td>\n",
              "                        <td id=\"T_4978ef84_0e50_11ec_9d52_0242ac1c0002row10_col11\" class=\"data row10 col11\" >0.02</td>\n",
              "            </tr>\n",
              "            <tr>\n",
              "                        <th id=\"T_4978ef84_0e50_11ec_9d52_0242ac1c0002level0_row11\" class=\"row_heading level0 row11\" >Loan_Status</th>\n",
              "                        <td id=\"T_4978ef84_0e50_11ec_9d52_0242ac1c0002row11_col0\" class=\"data row11 col0\" >-0.02</td>\n",
              "                        <td id=\"T_4978ef84_0e50_11ec_9d52_0242ac1c0002row11_col1\" class=\"data row11 col1\" >-0.09</td>\n",
              "                        <td id=\"T_4978ef84_0e50_11ec_9d52_0242ac1c0002row11_col2\" class=\"data row11 col2\" >-0.01</td>\n",
              "                        <td id=\"T_4978ef84_0e50_11ec_9d52_0242ac1c0002row11_col3\" class=\"data row11 col3\" >0.09</td>\n",
              "                        <td id=\"T_4978ef84_0e50_11ec_9d52_0242ac1c0002row11_col4\" class=\"data row11 col4\" >0.00</td>\n",
              "                        <td id=\"T_4978ef84_0e50_11ec_9d52_0242ac1c0002row11_col5\" class=\"data row11 col5\" >-0.54</td>\n",
              "                        <td id=\"T_4978ef84_0e50_11ec_9d52_0242ac1c0002row11_col6\" class=\"data row11 col6\" >-0.03</td>\n",
              "                        <td id=\"T_4978ef84_0e50_11ec_9d52_0242ac1c0002row11_col7\" class=\"data row11 col7\" >0.00</td>\n",
              "                        <td id=\"T_4978ef84_0e50_11ec_9d52_0242ac1c0002row11_col8\" class=\"data row11 col8\" >0.06</td>\n",
              "                        <td id=\"T_4978ef84_0e50_11ec_9d52_0242ac1c0002row11_col9\" class=\"data row11 col9\" >0.04</td>\n",
              "                        <td id=\"T_4978ef84_0e50_11ec_9d52_0242ac1c0002row11_col10\" class=\"data row11 col10\" >0.02</td>\n",
              "                        <td id=\"T_4978ef84_0e50_11ec_9d52_0242ac1c0002row11_col11\" class=\"data row11 col11\" >1.00</td>\n",
              "            </tr>\n",
              "    </tbody></table>"
            ],
            "text/plain": [
              "<pandas.io.formats.style.Styler at 0x7f134349de50>"
            ]
          },
          "metadata": {},
          "execution_count": 154
        }
      ]
    },
    {
      "cell_type": "markdown",
      "metadata": {
        "id": "YO_0JIbmolTt"
      },
      "source": [
        "V.Train data"
      ]
    },
    {
      "cell_type": "code",
      "metadata": {
        "id": "SeQTCkbXoeaA"
      },
      "source": [
        "array = data.values\n",
        "X = array[:,0:11]\n",
        "Y = array[:,11]\n",
        "validation_size = 0.20\n",
        "seed = 42\n",
        "X_train, X_validation, Y_train, Y_validation = train_test_split(X, Y, test_size=validation_size, random_state=seed)"
      ],
      "execution_count": null,
      "outputs": []
    },
    {
      "cell_type": "code",
      "metadata": {
        "colab": {
          "base_uri": "https://localhost:8080/"
        },
        "id": "-8F5ceZTpt18",
        "outputId": "3bccba3f-238e-453f-aae1-473f08e3767c"
      },
      "source": [
        "X_train.shape, X_validation.shape"
      ],
      "execution_count": null,
      "outputs": [
        {
          "output_type": "execute_result",
          "data": {
            "text/plain": [
              "((491, 11), (123, 11))"
            ]
          },
          "metadata": {},
          "execution_count": 158
        }
      ]
    },
    {
      "cell_type": "code",
      "metadata": {
        "id": "tHA7ZmpXw43v"
      },
      "source": [
        "num_folds = 10\n",
        "seed = 7\n",
        "scoring = 'accuracy'"
      ],
      "execution_count": null,
      "outputs": []
    },
    {
      "cell_type": "code",
      "metadata": {
        "id": "zFHHZNVqpyPg"
      },
      "source": [
        "models = []\n",
        "models.append(('LR', LogisticRegression()))\n",
        "models.append(('LDA', LinearDiscriminantAnalysis()))\n",
        "models.append(('KNN', KNeighborsClassifier()))\n",
        "models.append(('CART', DecisionTreeClassifier()))\n",
        "models.append(('NB', GaussianNB()))\n",
        "models.append(('SVM', SVC()))"
      ],
      "execution_count": null,
      "outputs": []
    },
    {
      "cell_type": "code",
      "metadata": {
        "id": "6d8vG9bOqLo9",
        "colab": {
          "base_uri": "https://localhost:8080/"
        },
        "outputId": "e6bee107-40b5-415d-c030-464d9e9f9ba5"
      },
      "source": [
        "results = []\n",
        "names = []\n",
        "for name, model in models:\n",
        "  kfold = KFold(n_splits=num_folds, random_state=seed)\n",
        "  cv_results = cross_val_score(model, X_train, Y_train, cv=kfold, scoring=scoring)\n",
        "  results.append(cv_results)\n",
        "  names.append(name)\n",
        "  msg = \"%s: %f (%f)\" % (name, cv_results.mean(), cv_results.std())\n",
        "  print(msg)"
      ],
      "execution_count": null,
      "outputs": [
        {
          "output_type": "stream",
          "name": "stderr",
          "text": [
            "/usr/local/lib/python3.7/dist-packages/sklearn/model_selection/_split.py:296: FutureWarning: Setting a random_state has no effect since shuffle is False. This will raise an error in 0.24. You should leave random_state to its default (None), or set shuffle=True.\n",
            "  FutureWarning\n",
            "/usr/local/lib/python3.7/dist-packages/sklearn/linear_model/_logistic.py:940: ConvergenceWarning: lbfgs failed to converge (status=1):\n",
            "STOP: TOTAL NO. of ITERATIONS REACHED LIMIT.\n",
            "\n",
            "Increase the number of iterations (max_iter) or scale the data as shown in:\n",
            "    https://scikit-learn.org/stable/modules/preprocessing.html\n",
            "Please also refer to the documentation for alternative solver options:\n",
            "    https://scikit-learn.org/stable/modules/linear_model.html#logistic-regression\n",
            "  extra_warning_msg=_LOGISTIC_SOLVER_CONVERGENCE_MSG)\n",
            "/usr/local/lib/python3.7/dist-packages/sklearn/linear_model/_logistic.py:940: ConvergenceWarning: lbfgs failed to converge (status=1):\n",
            "STOP: TOTAL NO. of ITERATIONS REACHED LIMIT.\n",
            "\n",
            "Increase the number of iterations (max_iter) or scale the data as shown in:\n",
            "    https://scikit-learn.org/stable/modules/preprocessing.html\n",
            "Please also refer to the documentation for alternative solver options:\n",
            "    https://scikit-learn.org/stable/modules/linear_model.html#logistic-regression\n",
            "  extra_warning_msg=_LOGISTIC_SOLVER_CONVERGENCE_MSG)\n",
            "/usr/local/lib/python3.7/dist-packages/sklearn/linear_model/_logistic.py:940: ConvergenceWarning: lbfgs failed to converge (status=1):\n",
            "STOP: TOTAL NO. of ITERATIONS REACHED LIMIT.\n",
            "\n",
            "Increase the number of iterations (max_iter) or scale the data as shown in:\n",
            "    https://scikit-learn.org/stable/modules/preprocessing.html\n",
            "Please also refer to the documentation for alternative solver options:\n",
            "    https://scikit-learn.org/stable/modules/linear_model.html#logistic-regression\n",
            "  extra_warning_msg=_LOGISTIC_SOLVER_CONVERGENCE_MSG)\n",
            "/usr/local/lib/python3.7/dist-packages/sklearn/linear_model/_logistic.py:940: ConvergenceWarning: lbfgs failed to converge (status=1):\n",
            "STOP: TOTAL NO. of ITERATIONS REACHED LIMIT.\n",
            "\n",
            "Increase the number of iterations (max_iter) or scale the data as shown in:\n",
            "    https://scikit-learn.org/stable/modules/preprocessing.html\n",
            "Please also refer to the documentation for alternative solver options:\n",
            "    https://scikit-learn.org/stable/modules/linear_model.html#logistic-regression\n",
            "  extra_warning_msg=_LOGISTIC_SOLVER_CONVERGENCE_MSG)\n",
            "/usr/local/lib/python3.7/dist-packages/sklearn/linear_model/_logistic.py:940: ConvergenceWarning: lbfgs failed to converge (status=1):\n",
            "STOP: TOTAL NO. of ITERATIONS REACHED LIMIT.\n",
            "\n",
            "Increase the number of iterations (max_iter) or scale the data as shown in:\n",
            "    https://scikit-learn.org/stable/modules/preprocessing.html\n",
            "Please also refer to the documentation for alternative solver options:\n",
            "    https://scikit-learn.org/stable/modules/linear_model.html#logistic-regression\n",
            "  extra_warning_msg=_LOGISTIC_SOLVER_CONVERGENCE_MSG)\n",
            "/usr/local/lib/python3.7/dist-packages/sklearn/linear_model/_logistic.py:940: ConvergenceWarning: lbfgs failed to converge (status=1):\n",
            "STOP: TOTAL NO. of ITERATIONS REACHED LIMIT.\n",
            "\n",
            "Increase the number of iterations (max_iter) or scale the data as shown in:\n",
            "    https://scikit-learn.org/stable/modules/preprocessing.html\n",
            "Please also refer to the documentation for alternative solver options:\n",
            "    https://scikit-learn.org/stable/modules/linear_model.html#logistic-regression\n",
            "  extra_warning_msg=_LOGISTIC_SOLVER_CONVERGENCE_MSG)\n",
            "/usr/local/lib/python3.7/dist-packages/sklearn/linear_model/_logistic.py:940: ConvergenceWarning: lbfgs failed to converge (status=1):\n",
            "STOP: TOTAL NO. of ITERATIONS REACHED LIMIT.\n",
            "\n",
            "Increase the number of iterations (max_iter) or scale the data as shown in:\n",
            "    https://scikit-learn.org/stable/modules/preprocessing.html\n",
            "Please also refer to the documentation for alternative solver options:\n",
            "    https://scikit-learn.org/stable/modules/linear_model.html#logistic-regression\n",
            "  extra_warning_msg=_LOGISTIC_SOLVER_CONVERGENCE_MSG)\n",
            "/usr/local/lib/python3.7/dist-packages/sklearn/linear_model/_logistic.py:940: ConvergenceWarning: lbfgs failed to converge (status=1):\n",
            "STOP: TOTAL NO. of ITERATIONS REACHED LIMIT.\n",
            "\n",
            "Increase the number of iterations (max_iter) or scale the data as shown in:\n",
            "    https://scikit-learn.org/stable/modules/preprocessing.html\n",
            "Please also refer to the documentation for alternative solver options:\n",
            "    https://scikit-learn.org/stable/modules/linear_model.html#logistic-regression\n",
            "  extra_warning_msg=_LOGISTIC_SOLVER_CONVERGENCE_MSG)\n",
            "/usr/local/lib/python3.7/dist-packages/sklearn/model_selection/_split.py:296: FutureWarning: Setting a random_state has no effect since shuffle is False. This will raise an error in 0.24. You should leave random_state to its default (None), or set shuffle=True.\n",
            "  FutureWarning\n",
            "/usr/local/lib/python3.7/dist-packages/sklearn/model_selection/_split.py:296: FutureWarning: Setting a random_state has no effect since shuffle is False. This will raise an error in 0.24. You should leave random_state to its default (None), or set shuffle=True.\n",
            "  FutureWarning\n",
            "/usr/local/lib/python3.7/dist-packages/sklearn/model_selection/_split.py:296: FutureWarning: Setting a random_state has no effect since shuffle is False. This will raise an error in 0.24. You should leave random_state to its default (None), or set shuffle=True.\n",
            "  FutureWarning\n",
            "/usr/local/lib/python3.7/dist-packages/sklearn/model_selection/_split.py:296: FutureWarning: Setting a random_state has no effect since shuffle is False. This will raise an error in 0.24. You should leave random_state to its default (None), or set shuffle=True.\n",
            "  FutureWarning\n",
            "/usr/local/lib/python3.7/dist-packages/sklearn/model_selection/_split.py:296: FutureWarning: Setting a random_state has no effect since shuffle is False. This will raise an error in 0.24. You should leave random_state to its default (None), or set shuffle=True.\n",
            "  FutureWarning\n"
          ]
        },
        {
          "output_type": "stream",
          "name": "stdout",
          "text": [
            "LR: 0.806612 (0.034964)\n",
            "LDA: 0.812735 (0.041977)\n",
            "KNN: 0.660122 (0.057177)\n",
            "CART: 0.714857 (0.040852)\n",
            "NB: 0.796327 (0.037651)\n",
            "SVM: 0.688490 (0.050928)\n"
          ]
        }
      ]
    },
    {
      "cell_type": "code",
      "metadata": {
        "colab": {
          "base_uri": "https://localhost:8080/",
          "height": 663
        },
        "id": "c0ftWAXtqlAI",
        "outputId": "cc39c7a8-03c2-4e4b-d5ea-e1b334410c93"
      },
      "source": [
        "fig = plt.figure(figsize=(10, 10))\n",
        "fig.suptitle('Algorithm Comparison')\n",
        "ax = fig.add_subplot(111)\n",
        "pyplot.boxplot(results)\n",
        "ax.set_xticklabels(names)\n",
        "pyplot.show()"
      ],
      "execution_count": null,
      "outputs": [
        {
          "output_type": "display_data",
          "data": {
            "image/png": "[encoded data removed]",
            "text/plain": [
              "<Figure size 720x720 with 1 Axes>"
            ]
          },
          "metadata": {
            "needs_background": "light"
          }
        }
      ]
    },
    {
      "cell_type": "code",
      "metadata": {
        "colab": {
          "base_uri": "https://localhost:8080/"
        },
        "id": "cjo4r8YL5joz",
        "outputId": "b61cf08b-24ae-47e9-f19f-c83e00a2a1af"
      },
      "source": [
        "pipelines = []\n",
        "pipelines.append(('ScaledLR', Pipeline([('Scaler', StandardScaler()),('LR',LogisticRegression())])))\n",
        "pipelines.append(('ScaledLDA', Pipeline([('Scaler', StandardScaler()),('LDA', LinearDiscriminantAnalysis())])))\n",
        "pipelines.append(('ScaledKNN', Pipeline([('Scaler', StandardScaler()),('KNN', KNeighborsClassifier())])))\n",
        "pipelines.append(('ScaledCART', Pipeline([('Scaler', StandardScaler()),('CART', DecisionTreeClassifier())])))\n",
        "pipelines.append(('ScaledNB', Pipeline([('Scaler', StandardScaler()),('NB', GaussianNB())])))\n",
        "pipelines.append(('ScaledSVM', Pipeline([('Scaler', StandardScaler()),('SVM', SVC())])))\n",
        "results = []\n",
        "names = []\n",
        "for name, model in pipelines:\n",
        "  kfold = KFold(n_splits=num_folds, random_state=seed)\n",
        "  cv_results = cross_val_score(model, X_train, Y_train, cv=kfold, scoring=scoring)\n",
        "  results.append(cv_results)\n",
        "  names.append(name)\n",
        "  msg = \"%s: %f (%f)\" % (name, cv_results.mean(), cv_results.std())\n",
        "  print(msg)"
      ],
      "execution_count": null,
      "outputs": [
        {
          "output_type": "stream",
          "name": "stderr",
          "text": [
            "/usr/local/lib/python3.7/dist-packages/sklearn/model_selection/_split.py:296: FutureWarning: Setting a random_state has no effect since shuffle is False. This will raise an error in 0.24. You should leave random_state to its default (None), or set shuffle=True.\n",
            "  FutureWarning\n",
            "/usr/local/lib/python3.7/dist-packages/sklearn/model_selection/_split.py:296: FutureWarning: Setting a random_state has no effect since shuffle is False. This will raise an error in 0.24. You should leave random_state to its default (None), or set shuffle=True.\n",
            "  FutureWarning\n",
            "/usr/local/lib/python3.7/dist-packages/sklearn/model_selection/_split.py:296: FutureWarning: Setting a random_state has no effect since shuffle is False. This will raise an error in 0.24. You should leave random_state to its default (None), or set shuffle=True.\n",
            "  FutureWarning\n",
            "/usr/local/lib/python3.7/dist-packages/sklearn/model_selection/_split.py:296: FutureWarning: Setting a random_state has no effect since shuffle is False. This will raise an error in 0.24. You should leave random_state to its default (None), or set shuffle=True.\n",
            "  FutureWarning\n"
          ]
        },
        {
          "output_type": "stream",
          "name": "stdout",
          "text": [
            "ScaledLR: 0.810694 (0.040228)\n",
            "ScaledLDA: 0.812735 (0.041977)\n",
            "ScaledKNN: 0.788204 (0.040908)\n",
            "ScaledCART: 0.712776 (0.053814)\n",
            "ScaledNB: 0.798367 (0.029501)\n",
            "ScaledSVM: 0.800490 (0.039041)\n"
          ]
        },
        {
          "output_type": "stream",
          "name": "stderr",
          "text": [
            "/usr/local/lib/python3.7/dist-packages/sklearn/model_selection/_split.py:296: FutureWarning: Setting a random_state has no effect since shuffle is False. This will raise an error in 0.24. You should leave random_state to its default (None), or set shuffle=True.\n",
            "  FutureWarning\n",
            "/usr/local/lib/python3.7/dist-packages/sklearn/model_selection/_split.py:296: FutureWarning: Setting a random_state has no effect since shuffle is False. This will raise an error in 0.24. You should leave random_state to its default (None), or set shuffle=True.\n",
            "  FutureWarning\n"
          ]
        }
      ]
    },
    {
      "cell_type": "code",
      "metadata": {
        "colab": {
          "base_uri": "https://localhost:8080/"
        },
        "id": "fj8SUmSO9Se8",
        "outputId": "4ae0c90b-6c71-46da-8480-3c07a604ebe9"
      },
      "source": [
        "scaler = StandardScaler().fit(X_train)\n",
        "rescaledX = scaler.transform(X_train)\n",
        "shrinkage_values = [0.1, 0.2, 0.3, 0.4, 0.5, 0.6, 0.7, 0.8, 0.9]\n",
        "solver_values = ['svd', 'lsqr', 'eigen']\n",
        "param_grid = dict(shrinkage=shrinkage_values, solver = solver_values)\n",
        "model = LinearDiscriminantAnalysis()\n",
        "kfold = KFold(n_splits=num_folds, random_state=seed)\n",
        "grid = GridSearchCV(estimator=model, param_grid=param_grid, scoring=scoring, cv=kfold)\n",
        "grid_result = grid.fit(rescaledX, Y_train)\n",
        "print(\"Best: %f using %s\" % (grid_result.best_score_, grid_result.best_params_))\n",
        "means = grid_result.cv_results_['mean_test_score']\n",
        "stds = grid_result.cv_results_['std_test_score']\n",
        "params = grid_result.cv_results_['params']\n",
        "for mean, stdev, param in zip(means, stds, params):\n",
        "  print(\"%f (%f) with: %r\" % (mean, stdev, param))"
      ],
      "execution_count": null,
      "outputs": [
        {
          "output_type": "stream",
          "name": "stderr",
          "text": [
            "/usr/local/lib/python3.7/dist-packages/sklearn/model_selection/_split.py:296: FutureWarning: Setting a random_state has no effect since shuffle is False. This will raise an error in 0.24. You should leave random_state to its default (None), or set shuffle=True.\n",
            "  FutureWarning\n",
            "/usr/local/lib/python3.7/dist-packages/sklearn/model_selection/_validation.py:536: FitFailedWarning: Estimator fit failed. The score on this train-test partition for these parameters will be set to nan. Details: \n",
            "NotImplementedError: shrinkage not supported\n",
            "\n",
            "  FitFailedWarning)\n",
            "/usr/local/lib/python3.7/dist-packages/sklearn/model_selection/_validation.py:536: FitFailedWarning: Estimator fit failed. The score on this train-test partition for these parameters will be set to nan. Details: \n",
            "NotImplementedError: shrinkage not supported\n",
            "\n",
            "  FitFailedWarning)\n",
            "/usr/local/lib/python3.7/dist-packages/sklearn/model_selection/_validation.py:536: FitFailedWarning: Estimator fit failed. The score on this train-test partition for these parameters will be set to nan. Details: \n",
            "NotImplementedError: shrinkage not supported\n",
            "\n",
            "  FitFailedWarning)\n",
            "/usr/local/lib/python3.7/dist-packages/sklearn/model_selection/_validation.py:536: FitFailedWarning: Estimator fit failed. The score on this train-test partition for these parameters will be set to nan. Details: \n",
            "NotImplementedError: shrinkage not supported\n",
            "\n",
            "  FitFailedWarning)\n",
            "/usr/local/lib/python3.7/dist-packages/sklearn/model_selection/_validation.py:536: FitFailedWarning: Estimator fit failed. The score on this train-test partition for these parameters will be set to nan. Details: \n",
            "NotImplementedError: shrinkage not supported\n",
            "\n",
            "  FitFailedWarning)\n",
            "/usr/local/lib/python3.7/dist-packages/sklearn/model_selection/_validation.py:536: FitFailedWarning: Estimator fit failed. The score on this train-test partition for these parameters will be set to nan. Details: \n",
            "NotImplementedError: shrinkage not supported\n",
            "\n",
            "  FitFailedWarning)\n",
            "/usr/local/lib/python3.7/dist-packages/sklearn/model_selection/_validation.py:536: FitFailedWarning: Estimator fit failed. The score on this train-test partition for these parameters will be set to nan. Details: \n",
            "NotImplementedError: shrinkage not supported\n",
            "\n",
            "  FitFailedWarning)\n",
            "/usr/local/lib/python3.7/dist-packages/sklearn/model_selection/_validation.py:536: FitFailedWarning: Estimator fit failed. The score on this train-test partition for these parameters will be set to nan. Details: \n",
            "NotImplementedError: shrinkage not supported\n",
            "\n",
            "  FitFailedWarning)\n",
            "/usr/local/lib/python3.7/dist-packages/sklearn/model_selection/_validation.py:536: FitFailedWarning: Estimator fit failed. The score on this train-test partition for these parameters will be set to nan. Details: \n",
            "NotImplementedError: shrinkage not supported\n",
            "\n",
            "  FitFailedWarning)\n",
            "/usr/local/lib/python3.7/dist-packages/sklearn/model_selection/_validation.py:536: FitFailedWarning: Estimator fit failed. The score on this train-test partition for these parameters will be set to nan. Details: \n",
            "NotImplementedError: shrinkage not supported\n",
            "\n",
            "  FitFailedWarning)\n",
            "/usr/local/lib/python3.7/dist-packages/sklearn/model_selection/_validation.py:536: FitFailedWarning: Estimator fit failed. The score on this train-test partition for these parameters will be set to nan. Details: \n",
            "NotImplementedError: shrinkage not supported\n",
            "\n",
            "  FitFailedWarning)\n",
            "/usr/local/lib/python3.7/dist-packages/sklearn/model_selection/_validation.py:536: FitFailedWarning: Estimator fit failed. The score on this train-test partition for these parameters will be set to nan. Details: \n",
            "NotImplementedError: shrinkage not supported\n",
            "\n",
            "  FitFailedWarning)\n",
            "/usr/local/lib/python3.7/dist-packages/sklearn/model_selection/_validation.py:536: FitFailedWarning: Estimator fit failed. The score on this train-test partition for these parameters will be set to nan. Details: \n",
            "NotImplementedError: shrinkage not supported\n",
            "\n",
            "  FitFailedWarning)\n",
            "/usr/local/lib/python3.7/dist-packages/sklearn/model_selection/_validation.py:536: FitFailedWarning: Estimator fit failed. The score on this train-test partition for these parameters will be set to nan. Details: \n",
            "NotImplementedError: shrinkage not supported\n",
            "\n",
            "  FitFailedWarning)\n",
            "/usr/local/lib/python3.7/dist-packages/sklearn/model_selection/_validation.py:536: FitFailedWarning: Estimator fit failed. The score on this train-test partition for these parameters will be set to nan. Details: \n",
            "NotImplementedError: shrinkage not supported\n",
            "\n",
            "  FitFailedWarning)\n",
            "/usr/local/lib/python3.7/dist-packages/sklearn/model_selection/_validation.py:536: FitFailedWarning: Estimator fit failed. The score on this train-test partition for these parameters will be set to nan. Details: \n",
            "NotImplementedError: shrinkage not supported\n",
            "\n",
            "  FitFailedWarning)\n",
            "/usr/local/lib/python3.7/dist-packages/sklearn/model_selection/_validation.py:536: FitFailedWarning: Estimator fit failed. The score on this train-test partition for these parameters will be set to nan. Details: \n",
            "NotImplementedError: shrinkage not supported\n",
            "\n",
            "  FitFailedWarning)\n",
            "/usr/local/lib/python3.7/dist-packages/sklearn/model_selection/_validation.py:536: FitFailedWarning: Estimator fit failed. The score on this train-test partition for these parameters will be set to nan. Details: \n",
            "NotImplementedError: shrinkage not supported\n",
            "\n",
            "  FitFailedWarning)\n",
            "/usr/local/lib/python3.7/dist-packages/sklearn/model_selection/_validation.py:536: FitFailedWarning: Estimator fit failed. The score on this train-test partition for these parameters will be set to nan. Details: \n",
            "NotImplementedError: shrinkage not supported\n",
            "\n",
            "  FitFailedWarning)\n",
            "/usr/local/lib/python3.7/dist-packages/sklearn/model_selection/_validation.py:536: FitFailedWarning: Estimator fit failed. The score on this train-test partition for these parameters will be set to nan. Details: \n",
            "NotImplementedError: shrinkage not supported\n",
            "\n",
            "  FitFailedWarning)\n",
            "/usr/local/lib/python3.7/dist-packages/sklearn/model_selection/_validation.py:536: FitFailedWarning: Estimator fit failed. The score on this train-test partition for these parameters will be set to nan. Details: \n",
            "NotImplementedError: shrinkage not supported\n",
            "\n",
            "  FitFailedWarning)\n",
            "/usr/local/lib/python3.7/dist-packages/sklearn/model_selection/_validation.py:536: FitFailedWarning: Estimator fit failed. The score on this train-test partition for these parameters will be set to nan. Details: \n",
            "NotImplementedError: shrinkage not supported\n",
            "\n",
            "  FitFailedWarning)\n",
            "/usr/local/lib/python3.7/dist-packages/sklearn/model_selection/_validation.py:536: FitFailedWarning: Estimator fit failed. The score on this train-test partition for these parameters will be set to nan. Details: \n",
            "NotImplementedError: shrinkage not supported\n",
            "\n",
            "  FitFailedWarning)\n",
            "/usr/local/lib/python3.7/dist-packages/sklearn/model_selection/_validation.py:536: FitFailedWarning: Estimator fit failed. The score on this train-test partition for these parameters will be set to nan. Details: \n",
            "NotImplementedError: shrinkage not supported\n",
            "\n",
            "  FitFailedWarning)\n",
            "/usr/local/lib/python3.7/dist-packages/sklearn/model_selection/_validation.py:536: FitFailedWarning: Estimator fit failed. The score on this train-test partition for these parameters will be set to nan. Details: \n",
            "NotImplementedError: shrinkage not supported\n",
            "\n",
            "  FitFailedWarning)\n",
            "/usr/local/lib/python3.7/dist-packages/sklearn/model_selection/_validation.py:536: FitFailedWarning: Estimator fit failed. The score on this train-test partition for these parameters will be set to nan. Details: \n",
            "NotImplementedError: shrinkage not supported\n",
            "\n",
            "  FitFailedWarning)\n",
            "/usr/local/lib/python3.7/dist-packages/sklearn/model_selection/_validation.py:536: FitFailedWarning: Estimator fit failed. The score on this train-test partition for these parameters will be set to nan. Details: \n",
            "NotImplementedError: shrinkage not supported\n",
            "\n",
            "  FitFailedWarning)\n",
            "/usr/local/lib/python3.7/dist-packages/sklearn/model_selection/_validation.py:536: FitFailedWarning: Estimator fit failed. The score on this train-test partition for these parameters will be set to nan. Details: \n",
            "NotImplementedError: shrinkage not supported\n",
            "\n",
            "  FitFailedWarning)\n",
            "/usr/local/lib/python3.7/dist-packages/sklearn/model_selection/_validation.py:536: FitFailedWarning: Estimator fit failed. The score on this train-test partition for these parameters will be set to nan. Details: \n",
            "NotImplementedError: shrinkage not supported\n",
            "\n",
            "  FitFailedWarning)\n",
            "/usr/local/lib/python3.7/dist-packages/sklearn/model_selection/_validation.py:536: FitFailedWarning: Estimator fit failed. The score on this train-test partition for these parameters will be set to nan. Details: \n",
            "NotImplementedError: shrinkage not supported\n",
            "\n",
            "  FitFailedWarning)\n",
            "/usr/local/lib/python3.7/dist-packages/sklearn/model_selection/_validation.py:536: FitFailedWarning: Estimator fit failed. The score on this train-test partition for these parameters will be set to nan. Details: \n",
            "NotImplementedError: shrinkage not supported\n",
            "\n",
            "  FitFailedWarning)\n",
            "/usr/local/lib/python3.7/dist-packages/sklearn/model_selection/_validation.py:536: FitFailedWarning: Estimator fit failed. The score on this train-test partition for these parameters will be set to nan. Details: \n",
            "NotImplementedError: shrinkage not supported\n",
            "\n",
            "  FitFailedWarning)\n",
            "/usr/local/lib/python3.7/dist-packages/sklearn/model_selection/_validation.py:536: FitFailedWarning: Estimator fit failed. The score on this train-test partition for these parameters will be set to nan. Details: \n",
            "NotImplementedError: shrinkage not supported\n",
            "\n",
            "  FitFailedWarning)\n",
            "/usr/local/lib/python3.7/dist-packages/sklearn/model_selection/_validation.py:536: FitFailedWarning: Estimator fit failed. The score on this train-test partition for these parameters will be set to nan. Details: \n",
            "NotImplementedError: shrinkage not supported\n",
            "\n",
            "  FitFailedWarning)\n",
            "/usr/local/lib/python3.7/dist-packages/sklearn/model_selection/_validation.py:536: FitFailedWarning: Estimator fit failed. The score on this train-test partition for these parameters will be set to nan. Details: \n",
            "NotImplementedError: shrinkage not supported\n",
            "\n",
            "  FitFailedWarning)\n",
            "/usr/local/lib/python3.7/dist-packages/sklearn/model_selection/_validation.py:536: FitFailedWarning: Estimator fit failed. The score on this train-test partition for these parameters will be set to nan. Details: \n",
            "NotImplementedError: shrinkage not supported\n",
            "\n",
            "  FitFailedWarning)\n",
            "/usr/local/lib/python3.7/dist-packages/sklearn/model_selection/_validation.py:536: FitFailedWarning: Estimator fit failed. The score on this train-test partition for these parameters will be set to nan. Details: \n",
            "NotImplementedError: shrinkage not supported\n",
            "\n",
            "  FitFailedWarning)\n",
            "/usr/local/lib/python3.7/dist-packages/sklearn/model_selection/_validation.py:536: FitFailedWarning: Estimator fit failed. The score on this train-test partition for these parameters will be set to nan. Details: \n",
            "NotImplementedError: shrinkage not supported\n",
            "\n",
            "  FitFailedWarning)\n",
            "/usr/local/lib/python3.7/dist-packages/sklearn/model_selection/_validation.py:536: FitFailedWarning: Estimator fit failed. The score on this train-test partition for these parameters will be set to nan. Details: \n",
            "NotImplementedError: shrinkage not supported\n",
            "\n",
            "  FitFailedWarning)\n",
            "/usr/local/lib/python3.7/dist-packages/sklearn/model_selection/_validation.py:536: FitFailedWarning: Estimator fit failed. The score on this train-test partition for these parameters will be set to nan. Details: \n",
            "NotImplementedError: shrinkage not supported\n",
            "\n",
            "  FitFailedWarning)\n",
            "/usr/local/lib/python3.7/dist-packages/sklearn/model_selection/_validation.py:536: FitFailedWarning: Estimator fit failed. The score on this train-test partition for these parameters will be set to nan. Details: \n",
            "NotImplementedError: shrinkage not supported\n",
            "\n",
            "  FitFailedWarning)\n",
            "/usr/local/lib/python3.7/dist-packages/sklearn/model_selection/_validation.py:536: FitFailedWarning: Estimator fit failed. The score on this train-test partition for these parameters will be set to nan. Details: \n",
            "NotImplementedError: shrinkage not supported\n",
            "\n",
            "  FitFailedWarning)\n",
            "/usr/local/lib/python3.7/dist-packages/sklearn/model_selection/_validation.py:536: FitFailedWarning: Estimator fit failed. The score on this train-test partition for these parameters will be set to nan. Details: \n",
            "NotImplementedError: shrinkage not supported\n",
            "\n",
            "  FitFailedWarning)\n",
            "/usr/local/lib/python3.7/dist-packages/sklearn/model_selection/_validation.py:536: FitFailedWarning: Estimator fit failed. The score on this train-test partition for these parameters will be set to nan. Details: \n",
            "NotImplementedError: shrinkage not supported\n",
            "\n",
            "  FitFailedWarning)\n",
            "/usr/local/lib/python3.7/dist-packages/sklearn/model_selection/_validation.py:536: FitFailedWarning: Estimator fit failed. The score on this train-test partition for these parameters will be set to nan. Details: \n",
            "NotImplementedError: shrinkage not supported\n",
            "\n",
            "  FitFailedWarning)\n",
            "/usr/local/lib/python3.7/dist-packages/sklearn/model_selection/_validation.py:536: FitFailedWarning: Estimator fit failed. The score on this train-test partition for these parameters will be set to nan. Details: \n",
            "NotImplementedError: shrinkage not supported\n",
            "\n",
            "  FitFailedWarning)\n",
            "/usr/local/lib/python3.7/dist-packages/sklearn/model_selection/_validation.py:536: FitFailedWarning: Estimator fit failed. The score on this train-test partition for these parameters will be set to nan. Details: \n",
            "NotImplementedError: shrinkage not supported\n",
            "\n",
            "  FitFailedWarning)\n",
            "/usr/local/lib/python3.7/dist-packages/sklearn/model_selection/_validation.py:536: FitFailedWarning: Estimator fit failed. The score on this train-test partition for these parameters will be set to nan. Details: \n",
            "NotImplementedError: shrinkage not supported\n",
            "\n",
            "  FitFailedWarning)\n",
            "/usr/local/lib/python3.7/dist-packages/sklearn/model_selection/_validation.py:536: FitFailedWarning: Estimator fit failed. The score on this train-test partition for these parameters will be set to nan. Details: \n",
            "NotImplementedError: shrinkage not supported\n",
            "\n",
            "  FitFailedWarning)\n",
            "/usr/local/lib/python3.7/dist-packages/sklearn/model_selection/_validation.py:536: FitFailedWarning: Estimator fit failed. The score on this train-test partition for these parameters will be set to nan. Details: \n",
            "NotImplementedError: shrinkage not supported\n",
            "\n",
            "  FitFailedWarning)\n",
            "/usr/local/lib/python3.7/dist-packages/sklearn/model_selection/_validation.py:536: FitFailedWarning: Estimator fit failed. The score on this train-test partition for these parameters will be set to nan. Details: \n",
            "NotImplementedError: shrinkage not supported\n",
            "\n",
            "  FitFailedWarning)\n",
            "/usr/local/lib/python3.7/dist-packages/sklearn/model_selection/_validation.py:536: FitFailedWarning: Estimator fit failed. The score on this train-test partition for these parameters will be set to nan. Details: \n",
            "NotImplementedError: shrinkage not supported\n",
            "\n",
            "  FitFailedWarning)\n",
            "/usr/local/lib/python3.7/dist-packages/sklearn/model_selection/_validation.py:536: FitFailedWarning: Estimator fit failed. The score on this train-test partition for these parameters will be set to nan. Details: \n",
            "NotImplementedError: shrinkage not supported\n",
            "\n",
            "  FitFailedWarning)\n",
            "/usr/local/lib/python3.7/dist-packages/sklearn/model_selection/_validation.py:536: FitFailedWarning: Estimator fit failed. The score on this train-test partition for these parameters will be set to nan. Details: \n",
            "NotImplementedError: shrinkage not supported\n",
            "\n",
            "  FitFailedWarning)\n",
            "/usr/local/lib/python3.7/dist-packages/sklearn/model_selection/_validation.py:536: FitFailedWarning: Estimator fit failed. The score on this train-test partition for these parameters will be set to nan. Details: \n",
            "NotImplementedError: shrinkage not supported\n",
            "\n",
            "  FitFailedWarning)\n",
            "/usr/local/lib/python3.7/dist-packages/sklearn/model_selection/_validation.py:536: FitFailedWarning: Estimator fit failed. The score on this train-test partition for these parameters will be set to nan. Details: \n",
            "NotImplementedError: shrinkage not supported\n",
            "\n",
            "  FitFailedWarning)\n",
            "/usr/local/lib/python3.7/dist-packages/sklearn/model_selection/_validation.py:536: FitFailedWarning: Estimator fit failed. The score on this train-test partition for these parameters will be set to nan. Details: \n",
            "NotImplementedError: shrinkage not supported\n",
            "\n",
            "  FitFailedWarning)\n",
            "/usr/local/lib/python3.7/dist-packages/sklearn/model_selection/_validation.py:536: FitFailedWarning: Estimator fit failed. The score on this train-test partition for these parameters will be set to nan. Details: \n",
            "NotImplementedError: shrinkage not supported\n",
            "\n",
            "  FitFailedWarning)\n",
            "/usr/local/lib/python3.7/dist-packages/sklearn/model_selection/_validation.py:536: FitFailedWarning: Estimator fit failed. The score on this train-test partition for these parameters will be set to nan. Details: \n",
            "NotImplementedError: shrinkage not supported\n",
            "\n",
            "  FitFailedWarning)\n",
            "/usr/local/lib/python3.7/dist-packages/sklearn/model_selection/_validation.py:536: FitFailedWarning: Estimator fit failed. The score on this train-test partition for these parameters will be set to nan. Details: \n",
            "NotImplementedError: shrinkage not supported\n",
            "\n",
            "  FitFailedWarning)\n",
            "/usr/local/lib/python3.7/dist-packages/sklearn/model_selection/_validation.py:536: FitFailedWarning: Estimator fit failed. The score on this train-test partition for these parameters will be set to nan. Details: \n",
            "NotImplementedError: shrinkage not supported\n",
            "\n",
            "  FitFailedWarning)\n",
            "/usr/local/lib/python3.7/dist-packages/sklearn/model_selection/_validation.py:536: FitFailedWarning: Estimator fit failed. The score on this train-test partition for these parameters will be set to nan. Details: \n",
            "NotImplementedError: shrinkage not supported\n",
            "\n",
            "  FitFailedWarning)\n",
            "/usr/local/lib/python3.7/dist-packages/sklearn/model_selection/_validation.py:536: FitFailedWarning: Estimator fit failed. The score on this train-test partition for these parameters will be set to nan. Details: \n",
            "NotImplementedError: shrinkage not supported\n",
            "\n",
            "  FitFailedWarning)\n",
            "/usr/local/lib/python3.7/dist-packages/sklearn/model_selection/_validation.py:536: FitFailedWarning: Estimator fit failed. The score on this train-test partition for these parameters will be set to nan. Details: \n",
            "NotImplementedError: shrinkage not supported\n",
            "\n",
            "  FitFailedWarning)\n",
            "/usr/local/lib/python3.7/dist-packages/sklearn/model_selection/_validation.py:536: FitFailedWarning: Estimator fit failed. The score on this train-test partition for these parameters will be set to nan. Details: \n",
            "NotImplementedError: shrinkage not supported\n",
            "\n",
            "  FitFailedWarning)\n",
            "/usr/local/lib/python3.7/dist-packages/sklearn/model_selection/_validation.py:536: FitFailedWarning: Estimator fit failed. The score on this train-test partition for these parameters will be set to nan. Details: \n",
            "NotImplementedError: shrinkage not supported\n",
            "\n",
            "  FitFailedWarning)\n",
            "/usr/local/lib/python3.7/dist-packages/sklearn/model_selection/_validation.py:536: FitFailedWarning: Estimator fit failed. The score on this train-test partition for these parameters will be set to nan. Details: \n",
            "NotImplementedError: shrinkage not supported\n",
            "\n",
            "  FitFailedWarning)\n",
            "/usr/local/lib/python3.7/dist-packages/sklearn/model_selection/_validation.py:536: FitFailedWarning: Estimator fit failed. The score on this train-test partition for these parameters will be set to nan. Details: \n",
            "NotImplementedError: shrinkage not supported\n",
            "\n",
            "  FitFailedWarning)\n",
            "/usr/local/lib/python3.7/dist-packages/sklearn/model_selection/_validation.py:536: FitFailedWarning: Estimator fit failed. The score on this train-test partition for these parameters will be set to nan. Details: \n",
            "NotImplementedError: shrinkage not supported\n",
            "\n",
            "  FitFailedWarning)\n",
            "/usr/local/lib/python3.7/dist-packages/sklearn/model_selection/_validation.py:536: FitFailedWarning: Estimator fit failed. The score on this train-test partition for these parameters will be set to nan. Details: \n",
            "NotImplementedError: shrinkage not supported\n",
            "\n",
            "  FitFailedWarning)\n",
            "/usr/local/lib/python3.7/dist-packages/sklearn/model_selection/_validation.py:536: FitFailedWarning: Estimator fit failed. The score on this train-test partition for these parameters will be set to nan. Details: \n",
            "NotImplementedError: shrinkage not supported\n",
            "\n",
            "  FitFailedWarning)\n",
            "/usr/local/lib/python3.7/dist-packages/sklearn/model_selection/_validation.py:536: FitFailedWarning: Estimator fit failed. The score on this train-test partition for these parameters will be set to nan. Details: \n",
            "NotImplementedError: shrinkage not supported\n",
            "\n",
            "  FitFailedWarning)\n",
            "/usr/local/lib/python3.7/dist-packages/sklearn/model_selection/_validation.py:536: FitFailedWarning: Estimator fit failed. The score on this train-test partition for these parameters will be set to nan. Details: \n",
            "NotImplementedError: shrinkage not supported\n",
            "\n",
            "  FitFailedWarning)\n",
            "/usr/local/lib/python3.7/dist-packages/sklearn/model_selection/_validation.py:536: FitFailedWarning: Estimator fit failed. The score on this train-test partition for these parameters will be set to nan. Details: \n",
            "NotImplementedError: shrinkage not supported\n",
            "\n",
            "  FitFailedWarning)\n",
            "/usr/local/lib/python3.7/dist-packages/sklearn/model_selection/_validation.py:536: FitFailedWarning: Estimator fit failed. The score on this train-test partition for these parameters will be set to nan. Details: \n",
            "NotImplementedError: shrinkage not supported\n",
            "\n",
            "  FitFailedWarning)\n",
            "/usr/local/lib/python3.7/dist-packages/sklearn/model_selection/_validation.py:536: FitFailedWarning: Estimator fit failed. The score on this train-test partition for these parameters will be set to nan. Details: \n",
            "NotImplementedError: shrinkage not supported\n",
            "\n",
            "  FitFailedWarning)\n",
            "/usr/local/lib/python3.7/dist-packages/sklearn/model_selection/_validation.py:536: FitFailedWarning: Estimator fit failed. The score on this train-test partition for these parameters will be set to nan. Details: \n",
            "NotImplementedError: shrinkage not supported\n",
            "\n",
            "  FitFailedWarning)\n",
            "/usr/local/lib/python3.7/dist-packages/sklearn/model_selection/_validation.py:536: FitFailedWarning: Estimator fit failed. The score on this train-test partition for these parameters will be set to nan. Details: \n",
            "NotImplementedError: shrinkage not supported\n",
            "\n",
            "  FitFailedWarning)\n",
            "/usr/local/lib/python3.7/dist-packages/sklearn/model_selection/_validation.py:536: FitFailedWarning: Estimator fit failed. The score on this train-test partition for these parameters will be set to nan. Details: \n",
            "NotImplementedError: shrinkage not supported\n",
            "\n",
            "  FitFailedWarning)\n",
            "/usr/local/lib/python3.7/dist-packages/sklearn/model_selection/_validation.py:536: FitFailedWarning: Estimator fit failed. The score on this train-test partition for these parameters will be set to nan. Details: \n",
            "NotImplementedError: shrinkage not supported\n",
            "\n",
            "  FitFailedWarning)\n"
          ]
        },
        {
          "output_type": "stream",
          "name": "stdout",
          "text": [
            "Best: 0.814776 using {'shrinkage': 0.4, 'solver': 'lsqr'}\n",
            "nan (nan) with: {'shrinkage': 0.1, 'solver': 'svd'}\n",
            "0.812735 (0.041977) with: {'shrinkage': 0.1, 'solver': 'lsqr'}\n",
            "0.812735 (0.041977) with: {'shrinkage': 0.1, 'solver': 'eigen'}\n",
            "nan (nan) with: {'shrinkage': 0.2, 'solver': 'svd'}\n",
            "0.812735 (0.041977) with: {'shrinkage': 0.2, 'solver': 'lsqr'}\n",
            "0.812735 (0.041977) with: {'shrinkage': 0.2, 'solver': 'eigen'}\n",
            "nan (nan) with: {'shrinkage': 0.3, 'solver': 'svd'}\n",
            "0.812735 (0.041977) with: {'shrinkage': 0.3, 'solver': 'lsqr'}\n",
            "0.812735 (0.041977) with: {'shrinkage': 0.3, 'solver': 'eigen'}\n",
            "nan (nan) with: {'shrinkage': 0.4, 'solver': 'svd'}\n",
            "0.814776 (0.042594) with: {'shrinkage': 0.4, 'solver': 'lsqr'}\n",
            "0.814776 (0.042594) with: {'shrinkage': 0.4, 'solver': 'eigen'}\n",
            "nan (nan) with: {'shrinkage': 0.5, 'solver': 'svd'}\n",
            "0.814776 (0.042594) with: {'shrinkage': 0.5, 'solver': 'lsqr'}\n",
            "0.814776 (0.042594) with: {'shrinkage': 0.5, 'solver': 'eigen'}\n",
            "nan (nan) with: {'shrinkage': 0.6, 'solver': 'svd'}\n",
            "0.814776 (0.042594) with: {'shrinkage': 0.6, 'solver': 'lsqr'}\n",
            "0.814776 (0.042594) with: {'shrinkage': 0.6, 'solver': 'eigen'}\n",
            "nan (nan) with: {'shrinkage': 0.7, 'solver': 'svd'}\n",
            "0.814776 (0.042594) with: {'shrinkage': 0.7, 'solver': 'lsqr'}\n",
            "0.814776 (0.042594) with: {'shrinkage': 0.7, 'solver': 'eigen'}\n",
            "nan (nan) with: {'shrinkage': 0.8, 'solver': 'svd'}\n",
            "0.814776 (0.042594) with: {'shrinkage': 0.8, 'solver': 'lsqr'}\n",
            "0.814776 (0.042594) with: {'shrinkage': 0.8, 'solver': 'eigen'}\n",
            "nan (nan) with: {'shrinkage': 0.9, 'solver': 'svd'}\n",
            "0.814776 (0.042594) with: {'shrinkage': 0.9, 'solver': 'lsqr'}\n",
            "0.814776 (0.042594) with: {'shrinkage': 0.9, 'solver': 'eigen'}\n"
          ]
        },
        {
          "output_type": "stream",
          "name": "stderr",
          "text": [
            "/usr/local/lib/python3.7/dist-packages/sklearn/model_selection/_validation.py:536: FitFailedWarning: Estimator fit failed. The score on this train-test partition for these parameters will be set to nan. Details: \n",
            "NotImplementedError: shrinkage not supported\n",
            "\n",
            "  FitFailedWarning)\n",
            "/usr/local/lib/python3.7/dist-packages/sklearn/model_selection/_validation.py:536: FitFailedWarning: Estimator fit failed. The score on this train-test partition for these parameters will be set to nan. Details: \n",
            "NotImplementedError: shrinkage not supported\n",
            "\n",
            "  FitFailedWarning)\n",
            "/usr/local/lib/python3.7/dist-packages/sklearn/model_selection/_validation.py:536: FitFailedWarning: Estimator fit failed. The score on this train-test partition for these parameters will be set to nan. Details: \n",
            "NotImplementedError: shrinkage not supported\n",
            "\n",
            "  FitFailedWarning)\n",
            "/usr/local/lib/python3.7/dist-packages/sklearn/model_selection/_validation.py:536: FitFailedWarning: Estimator fit failed. The score on this train-test partition for these parameters will be set to nan. Details: \n",
            "NotImplementedError: shrinkage not supported\n",
            "\n",
            "  FitFailedWarning)\n",
            "/usr/local/lib/python3.7/dist-packages/sklearn/model_selection/_validation.py:536: FitFailedWarning: Estimator fit failed. The score on this train-test partition for these parameters will be set to nan. Details: \n",
            "NotImplementedError: shrinkage not supported\n",
            "\n",
            "  FitFailedWarning)\n",
            "/usr/local/lib/python3.7/dist-packages/sklearn/model_selection/_validation.py:536: FitFailedWarning: Estimator fit failed. The score on this train-test partition for these parameters will be set to nan. Details: \n",
            "NotImplementedError: shrinkage not supported\n",
            "\n",
            "  FitFailedWarning)\n",
            "/usr/local/lib/python3.7/dist-packages/sklearn/model_selection/_validation.py:536: FitFailedWarning: Estimator fit failed. The score on this train-test partition for these parameters will be set to nan. Details: \n",
            "NotImplementedError: shrinkage not supported\n",
            "\n",
            "  FitFailedWarning)\n",
            "/usr/local/lib/python3.7/dist-packages/sklearn/model_selection/_validation.py:536: FitFailedWarning: Estimator fit failed. The score on this train-test partition for these parameters will be set to nan. Details: \n",
            "NotImplementedError: shrinkage not supported\n",
            "\n",
            "  FitFailedWarning)\n",
            "/usr/local/lib/python3.7/dist-packages/sklearn/model_selection/_validation.py:536: FitFailedWarning: Estimator fit failed. The score on this train-test partition for these parameters will be set to nan. Details: \n",
            "NotImplementedError: shrinkage not supported\n",
            "\n",
            "  FitFailedWarning)\n",
            "/usr/local/lib/python3.7/dist-packages/sklearn/model_selection/_validation.py:536: FitFailedWarning: Estimator fit failed. The score on this train-test partition for these parameters will be set to nan. Details: \n",
            "NotImplementedError: shrinkage not supported\n",
            "\n",
            "  FitFailedWarning)\n"
          ]
        }
      ]
    },
    {
      "cell_type": "code",
      "metadata": {
        "id": "f8kvNXxdh6wI"
      },
      "source": [
        "scaler = StandardScaler().fit(X_train)\n",
        "rescaledX = scaler.transform(X_train)\n",
        "c_values = [0.1, 0.3, 0.5, 0.7, 0.9, 1.0, 1.3, 1.5, 1.7, 2.0]\n",
        "kernel_values = ['linear', 'poly', 'rbf', 'sigmoid']\n",
        "param_grid = dict(C=c_values, kernel=kernel_values)\n",
        "model = SVC()\n",
        "kfold = KFold(n_splits=num_folds, random_state=seed)\n",
        "grid = GridSearchCV(estimator=model, param_grid=param_grid, scoring=scoring, cv=kfold)\n",
        "grid_result = grid.fit(rescaledX, Y_train)\n",
        "print(\"Best: %f using %s\" % (grid_result.best_score_, grid_result.best_params_))\n",
        "means = grid_result.cv_results_['mean_test_score']\n",
        "stds = grid_result.cv_results_['std_test_score']\n",
        "params = grid_result.cv_results_['params']\n",
        "for mean, stdev, param in zip(means, stds, params):\n",
        "  print(\"%f (%f) with: %r\" % (mean, stdev, param))"
      ],
      "execution_count": null,
      "outputs": []
    },
    {
      "cell_type": "code",
      "metadata": {
        "colab": {
          "base_uri": "https://localhost:8080/"
        },
        "id": "HBA8SfLE5v8y",
        "outputId": "a7b396aa-5cde-4cb6-fdbb-eeffe074f77d"
      },
      "source": [
        "scaler = StandardScaler().fit(X_train)\n",
        "rescaledX = scaler.transform(X_train)\n",
        "c_values = [0.1, 0.3, 0.5, 0.7, 0.9, 1.0, 1.3, 1.5, 1.7, 2.0]\n",
        "kernel_values = ['linear', 'poly', 'rbf', 'sigmoid']\n",
        "param_grid = dict(C=c_values, kernel=kernel_values)\n",
        "model = SVC()\n",
        "kfold = KFold(n_splits=num_folds, random_state=seed)\n",
        "grid = GridSearchCV(estimator=model, param_grid=param_grid, scoring=scoring, cv=kfold)\n",
        "grid_result = grid.fit(rescaledX, Y_train)\n",
        "print(\"Best: %f using %s\" % (grid_result.best_score_, grid_result.best_params_))\n",
        "means = grid_result.cv_results_['mean_test_score']\n",
        "stds = grid_result.cv_results_['std_test_score']\n",
        "params = grid_result.cv_results_['params']\n",
        "for mean, stdev, param in zip(means, stds, params):\n",
        "  print(\"%f (%f) with: %r\" % (mean, stdev, param))"
      ],
      "execution_count": null,
      "outputs": [
        {
          "output_type": "stream",
          "name": "stderr",
          "text": [
            "/usr/local/lib/python3.7/dist-packages/sklearn/model_selection/_split.py:296: FutureWarning: Setting a random_state has no effect since shuffle is False. This will raise an error in 0.24. You should leave random_state to its default (None), or set shuffle=True.\n",
            "  FutureWarning\n"
          ]
        },
        {
          "output_type": "stream",
          "name": "stdout",
          "text": [
            "Best: 0.814776 using {'C': 0.1, 'kernel': 'linear'}\n",
            "0.814776 (0.042594) with: {'C': 0.1, 'kernel': 'linear'}\n",
            "0.782163 (0.041306) with: {'C': 0.1, 'kernel': 'poly'}\n",
            "0.784204 (0.046184) with: {'C': 0.1, 'kernel': 'rbf'}\n",
            "0.814776 (0.042594) with: {'C': 0.1, 'kernel': 'sigmoid'}\n",
            "0.814776 (0.042594) with: {'C': 0.3, 'kernel': 'linear'}\n",
            "0.814694 (0.040083) with: {'C': 0.3, 'kernel': 'poly'}\n",
            "0.808694 (0.047682) with: {'C': 0.3, 'kernel': 'rbf'}\n",
            "0.812735 (0.041977) with: {'C': 0.3, 'kernel': 'sigmoid'}\n",
            "0.814776 (0.042594) with: {'C': 0.5, 'kernel': 'linear'}\n",
            "0.806612 (0.040484) with: {'C': 0.5, 'kernel': 'poly'}\n",
            "0.810735 (0.044822) with: {'C': 0.5, 'kernel': 'rbf'}\n",
            "0.810694 (0.039179) with: {'C': 0.5, 'kernel': 'sigmoid'}\n",
            "0.814776 (0.042594) with: {'C': 0.7, 'kernel': 'linear'}\n",
            "0.800490 (0.040094) with: {'C': 0.7, 'kernel': 'poly'}\n",
            "0.804612 (0.040144) with: {'C': 0.7, 'kernel': 'rbf'}\n",
            "0.806653 (0.042192) with: {'C': 0.7, 'kernel': 'sigmoid'}\n",
            "0.814776 (0.042594) with: {'C': 0.9, 'kernel': 'linear'}\n",
            "0.800490 (0.040094) with: {'C': 0.9, 'kernel': 'poly'}\n",
            "0.800531 (0.042807) with: {'C': 0.9, 'kernel': 'rbf'}\n",
            "0.806653 (0.045971) with: {'C': 0.9, 'kernel': 'sigmoid'}\n",
            "0.814776 (0.042594) with: {'C': 1.0, 'kernel': 'linear'}\n",
            "0.800490 (0.040094) with: {'C': 1.0, 'kernel': 'poly'}\n",
            "0.800490 (0.039041) with: {'C': 1.0, 'kernel': 'rbf'}\n",
            "0.806653 (0.046868) with: {'C': 1.0, 'kernel': 'sigmoid'}\n",
            "0.814776 (0.042594) with: {'C': 1.3, 'kernel': 'linear'}\n",
            "0.790286 (0.038363) with: {'C': 1.3, 'kernel': 'poly'}\n",
            "0.800490 (0.040094) with: {'C': 1.3, 'kernel': 'rbf'}\n",
            "0.802531 (0.038206) with: {'C': 1.3, 'kernel': 'sigmoid'}\n",
            "0.814776 (0.042594) with: {'C': 1.5, 'kernel': 'linear'}\n",
            "0.788245 (0.040655) with: {'C': 1.5, 'kernel': 'poly'}\n",
            "0.796408 (0.041370) with: {'C': 1.5, 'kernel': 'rbf'}\n",
            "0.798449 (0.036475) with: {'C': 1.5, 'kernel': 'sigmoid'}\n",
            "0.814776 (0.042594) with: {'C': 1.7, 'kernel': 'linear'}\n",
            "0.784163 (0.043666) with: {'C': 1.7, 'kernel': 'poly'}\n",
            "0.800449 (0.038243) with: {'C': 1.7, 'kernel': 'rbf'}\n",
            "0.800490 (0.046804) with: {'C': 1.7, 'kernel': 'sigmoid'}\n",
            "0.814776 (0.042594) with: {'C': 2.0, 'kernel': 'linear'}\n",
            "0.788245 (0.044565) with: {'C': 2.0, 'kernel': 'poly'}\n",
            "0.800449 (0.038243) with: {'C': 2.0, 'kernel': 'rbf'}\n",
            "0.786245 (0.049681) with: {'C': 2.0, 'kernel': 'sigmoid'}\n"
          ]
        }
      ]
    },
    {
      "cell_type": "code",
      "metadata": {
        "colab": {
          "base_uri": "https://localhost:8080/"
        },
        "id": "QfYDLHYZ4YwA",
        "outputId": "226ecd67-2a81-4107-b91c-76347c7f53b6"
      },
      "source": [
        "ensembles = []\n",
        "ensembles.append(('AB', AdaBoostClassifier()))\n",
        "ensembles.append(('GBM', GradientBoostingClassifier()))\n",
        "ensembles.append(('RF', RandomForestClassifier()))\n",
        "ensembles.append(('ET', ExtraTreesClassifier()))\n",
        "results = []\n",
        "names = []\n",
        "for name, model in ensembles:\n",
        "  kfold = KFold(n_splits=num_folds, random_state=seed)\n",
        "  cv_results = cross_val_score(model, X_train, Y_train, cv=kfold, scoring=scoring)\n",
        "  results.append(cv_results)\n",
        "  names.append(name)\n",
        "  msg = \"%s: %f (%f)\" % (name, cv_results.mean(), cv_results.std())\n",
        "  print(msg)"
      ],
      "execution_count": null,
      "outputs": [
        {
          "output_type": "stream",
          "name": "stderr",
          "text": [
            "/usr/local/lib/python3.7/dist-packages/sklearn/model_selection/_split.py:296: FutureWarning: Setting a random_state has no effect since shuffle is False. This will raise an error in 0.24. You should leave random_state to its default (None), or set shuffle=True.\n",
            "  FutureWarning\n"
          ]
        },
        {
          "output_type": "stream",
          "name": "stdout",
          "text": [
            "AB: 0.794327 (0.043074)\n"
          ]
        },
        {
          "output_type": "stream",
          "name": "stderr",
          "text": [
            "/usr/local/lib/python3.7/dist-packages/sklearn/model_selection/_split.py:296: FutureWarning: Setting a random_state has no effect since shuffle is False. This will raise an error in 0.24. You should leave random_state to its default (None), or set shuffle=True.\n",
            "  FutureWarning\n"
          ]
        },
        {
          "output_type": "stream",
          "name": "stdout",
          "text": [
            "GBM: 0.784122 (0.038865)\n"
          ]
        },
        {
          "output_type": "stream",
          "name": "stderr",
          "text": [
            "/usr/local/lib/python3.7/dist-packages/sklearn/model_selection/_split.py:296: FutureWarning: Setting a random_state has no effect since shuffle is False. This will raise an error in 0.24. You should leave random_state to its default (None), or set shuffle=True.\n",
            "  FutureWarning\n"
          ]
        },
        {
          "output_type": "stream",
          "name": "stdout",
          "text": [
            "RF: 0.802367 (0.040130)\n"
          ]
        },
        {
          "output_type": "stream",
          "name": "stderr",
          "text": [
            "/usr/local/lib/python3.7/dist-packages/sklearn/model_selection/_split.py:296: FutureWarning: Setting a random_state has no effect since shuffle is False. This will raise an error in 0.24. You should leave random_state to its default (None), or set shuffle=True.\n",
            "  FutureWarning\n"
          ]
        },
        {
          "output_type": "stream",
          "name": "stdout",
          "text": [
            "ET: 0.778000 (0.049529)\n"
          ]
        }
      ]
    },
    {
      "cell_type": "code",
      "metadata": {
        "colab": {
          "base_uri": "https://localhost:8080/",
          "height": 663
        },
        "id": "G0WrSjivwjEC",
        "outputId": "43dbc920-4d4b-489b-f847-995693b90d91"
      },
      "source": [
        "fig = pyplot.figure(figsize=(10, 10))\n",
        "fig.suptitle('Scaled Ensemble Algorithm Comparison')\n",
        "ax = fig.add_subplot(111)\n",
        "pyplot.boxplot(results)\n",
        "ax.set_xticklabels(names)\n",
        "pyplot.show()"
      ],
      "execution_count": null,
      "outputs": [
        {
          "output_type": "display_data",
          "data": {
            "image/png": "[encoded data removed]",
            "text/plain": [
              "<Figure size 720x720 with 1 Axes>"
            ]
          },
          "metadata": {
            "needs_background": "light"
          }
        }
      ]
    },
    {
      "cell_type": "code",
      "metadata": {
        "colab": {
          "base_uri": "https://localhost:8080/"
        },
        "id": "AEGPhqZLD8Vx",
        "outputId": "7b4869b3-4df0-41ed-a3c8-d2d4ff7d2c2c"
      },
      "source": [
        "scaler = StandardScaler().fit(X_train)\n",
        "rescaledX = scaler.transform(X_train)\n",
        "param_grid = dict(n_estimators=np.array([50, 100, 150, 200, 250, 300, 350, 400]))\n",
        "model = RandomForestClassifier(random_state=seed)\n",
        "kfold = KFold(n_splits=num_folds, random_state=seed)\n",
        "grid = GridSearchCV(estimator=model, param_grid=param_grid, scoring=scoring, cv=kfold)\n",
        "grid_result = grid.fit(rescaledX, Y_train)\n",
        "\n",
        "print(\"Best: %f using %s\" % (grid_result.best_score_, grid_result.best_params_))\n",
        "means = grid_result.cv_results_['mean_test_score']\n",
        "stds = grid_result.cv_results_['std_test_score']\n",
        "params = grid_result.cv_results_['params']\n",
        "for mean, stdev, param in zip(means, stds, params):\n",
        "  print(\"%f (%f) with: %r\" % (mean, stdev, param))"
      ],
      "execution_count": null,
      "outputs": [
        {
          "output_type": "stream",
          "name": "stderr",
          "text": [
            "/usr/local/lib/python3.7/dist-packages/sklearn/model_selection/_split.py:296: FutureWarning: Setting a random_state has no effect since shuffle is False. This will raise an error in 0.24. You should leave random_state to its default (None), or set shuffle=True.\n",
            "  FutureWarning\n"
          ]
        },
        {
          "output_type": "stream",
          "name": "stdout",
          "text": [
            "Best: 0.804490 using {'n_estimators': 350}\n",
            "0.800408 (0.032625) with: {'n_estimators': 50}\n",
            "0.798408 (0.038968) with: {'n_estimators': 100}\n",
            "0.802449 (0.040824) with: {'n_estimators': 150}\n",
            "0.802490 (0.040597) with: {'n_estimators': 200}\n",
            "0.802490 (0.040597) with: {'n_estimators': 250}\n",
            "0.802490 (0.040597) with: {'n_estimators': 300}\n",
            "0.804490 (0.039927) with: {'n_estimators': 350}\n",
            "0.804490 (0.039927) with: {'n_estimators': 400}\n"
          ]
        }
      ]
    },
    {
      "cell_type": "markdown",
      "metadata": {
        "id": "JRi9WZsMBQum"
      },
      "source": [
        "Thử model LDA"
      ]
    },
    {
      "cell_type": "code",
      "metadata": {
        "id": "UBjQc7dxAb3O"
      },
      "source": [
        "modelLDA = LinearDiscriminantAnalysis(shrinkage=0.4, solver='lsqr')\n",
        "modelLDA.fit(X_train, Y_train)\n",
        "predictions = modelLDA.predict(X_validation)"
      ],
      "execution_count": null,
      "outputs": []
    },
    {
      "cell_type": "code",
      "metadata": {
        "colab": {
          "base_uri": "https://localhost:8080/"
        },
        "id": "9N-7HsHoA90m",
        "outputId": "9ccdc785-5893-41a6-b0c3-042da2c6a6c4"
      },
      "source": [],
      "execution_count": null,
      "outputs": [
        {
          "output_type": "stream",
          "name": "stdout",
          "text": [
            "0.7026476578411406\n",
            "0.6504065040650406\n",
            "[[80  0]\n",
            " [43  0]]\n",
            "              precision    recall  f1-score   support\n",
            "\n",
            "         0.0       0.65      1.00      0.79        80\n",
            "         1.0       0.00      0.00      0.00        43\n",
            "\n",
            "    accuracy                           0.65       123\n",
            "   macro avg       0.33      0.50      0.39       123\n",
            "weighted avg       0.42      0.65      0.51       123\n",
            "\n"
          ]
        },
        {
          "output_type": "stream",
          "name": "stderr",
          "text": [
            "/usr/local/lib/python3.7/dist-packages/sklearn/metrics/_classification.py:1272: UndefinedMetricWarning: Precision and F-score are ill-defined and being set to 0.0 in labels with no predicted samples. Use `zero_division` parameter to control this behavior.\n",
            "  _warn_prf(average, modifier, msg_start, len(result))\n"
          ]
        }
      ]
    },
    {
      "cell_type": "markdown",
      "metadata": {
        "id": "mSOrrwNHRklW"
      },
      "source": [
        "Thử model RF"
      ]
    },
    {
      "cell_type": "code",
      "metadata": {
        "id": "D0fAps-XQ2dd"
      },
      "source": [
        "modelRF = RandomForestClassifier(random_state=seed, n_estimators=350)\n",
        "modelRF.fit(X_train, Y_train)\n",
        "predictions = modelRF.predict(X_validation)"
      ],
      "execution_count": null,
      "outputs": []
    },
    {
      "cell_type": "code",
      "metadata": {
        "colab": {
          "base_uri": "https://localhost:8080/"
        },
        "id": "Bp_qmeWXRGq9",
        "outputId": "5e26292e-0533-4212-fb7c-fe4671fac5d5"
      },
      "source": [
        "print(accuracy_score(Y_train, modelRF.predict(X_train)))\n",
        "print(accuracy_score(Y_validation, predictions))\n",
        "print(confusion_matrix(Y_validation, predictions))\n",
        "print(classification_report(Y_validation, predictions))"
      ],
      "execution_count": null,
      "outputs": [
        {
          "output_type": "stream",
          "name": "stdout",
          "text": [
            "1.0\n",
            "0.7804878048780488\n",
            "[[78  2]\n",
            " [25 18]]\n",
            "              precision    recall  f1-score   support\n",
            "\n",
            "         0.0       0.76      0.97      0.85        80\n",
            "         1.0       0.90      0.42      0.57        43\n",
            "\n",
            "    accuracy                           0.78       123\n",
            "   macro avg       0.83      0.70      0.71       123\n",
            "weighted avg       0.81      0.78      0.75       123\n",
            "\n"
          ]
        }
      ]
    },
    {
      "cell_type": "markdown",
      "metadata": {
        "id": "z-Frz8FcBWrY"
      },
      "source": [
        "Thử model SVC\n"
      ]
    },
    {
      "cell_type": "code",
      "metadata": {
        "id": "p26ZciTC40Tb"
      },
      "source": [
        "model = SVC(C=0.1, kernel='linear')\n",
        "model.fit(X_train, Y_train)\n",
        "predictions = model.predict(X_validation)"
      ],
      "execution_count": null,
      "outputs": []
    },
    {
      "cell_type": "code",
      "metadata": {
        "colab": {
          "base_uri": "https://localhost:8080/"
        },
        "id": "gGDeCiO1zWZj",
        "outputId": "1865a310-906b-4f83-d1ae-cbe53ebedb73"
      },
      "source": [
        "print(accuracy_score(Y_train, model.predict(X_train)))\n",
        "print(accuracy_score(Y_validation, predictions))\n",
        "print(confusion_matrix(Y_validation, predictions))\n",
        "print(classification_report(Y_validation, predictions))"
      ],
      "execution_count": null,
      "outputs": [
        {
          "output_type": "stream",
          "name": "stdout",
          "text": [
            "0.8105906313645621\n",
            "0.7967479674796748\n",
            "[[80  0]\n",
            " [25 18]]\n",
            "              precision    recall  f1-score   support\n",
            "\n",
            "         0.0       0.76      1.00      0.86        80\n",
            "         1.0       1.00      0.42      0.59        43\n",
            "\n",
            "    accuracy                           0.80       123\n",
            "   macro avg       0.88      0.71      0.73       123\n",
            "weighted avg       0.85      0.80      0.77       123\n",
            "\n"
          ]
        }
      ]
    },
    {
      "cell_type": "code",
      "metadata": {
        "colab": {
          "base_uri": "https://localhost:8080/",
          "height": 203
        },
        "id": "SLUCyaq7EeIu",
        "outputId": "5367679f-9b39-4b00-a8e0-2e45a6d0b271"
      },
      "source": [
        "data.head()"
      ],
      "execution_count": null,
      "outputs": [
        {
          "output_type": "execute_result",
          "data": {
            "text/html": [
              "<div>\n",
              "<style scoped>\n",
              "    .dataframe tbody tr th:only-of-type {\n",
              "        vertical-align: middle;\n",
              "    }\n",
              "\n",
              "    .dataframe tbody tr th {\n",
              "        vertical-align: top;\n",
              "    }\n",
              "\n",
              "    .dataframe thead th {\n",
              "        text-align: right;\n",
              "    }\n",
              "</style>\n",
              "<table border=\"1\" class=\"dataframe\">\n",
              "  <thead>\n",
              "    <tr style=\"text-align: right;\">\n",
              "      <th></th>\n",
              "      <th>Gender</th>\n",
              "      <th>Married</th>\n",
              "      <th>Dependents</th>\n",
              "      <th>Education</th>\n",
              "      <th>Self_Employed</th>\n",
              "      <th>Property_Area</th>\n",
              "      <th>ApplicantIncome</th>\n",
              "      <th>CoapplicantIncome</th>\n",
              "      <th>LoanAmount</th>\n",
              "      <th>Loan_Amount_Term</th>\n",
              "      <th>Credit_History</th>\n",
              "      <th>Loan_Status</th>\n",
              "    </tr>\n",
              "  </thead>\n",
              "  <tbody>\n",
              "    <tr>\n",
              "      <th>0</th>\n",
              "      <td>1</td>\n",
              "      <td>0</td>\n",
              "      <td>0</td>\n",
              "      <td>0</td>\n",
              "      <td>0</td>\n",
              "      <td>2</td>\n",
              "      <td>5849.0</td>\n",
              "      <td>0.0</td>\n",
              "      <td>146.412162</td>\n",
              "      <td>360.0</td>\n",
              "      <td>1.0</td>\n",
              "      <td>0</td>\n",
              "    </tr>\n",
              "    <tr>\n",
              "      <th>1</th>\n",
              "      <td>1</td>\n",
              "      <td>1</td>\n",
              "      <td>1</td>\n",
              "      <td>0</td>\n",
              "      <td>0</td>\n",
              "      <td>0</td>\n",
              "      <td>4583.0</td>\n",
              "      <td>1508.0</td>\n",
              "      <td>128.000000</td>\n",
              "      <td>360.0</td>\n",
              "      <td>1.0</td>\n",
              "      <td>1</td>\n",
              "    </tr>\n",
              "    <tr>\n",
              "      <th>2</th>\n",
              "      <td>1</td>\n",
              "      <td>1</td>\n",
              "      <td>0</td>\n",
              "      <td>0</td>\n",
              "      <td>1</td>\n",
              "      <td>2</td>\n",
              "      <td>3000.0</td>\n",
              "      <td>0.0</td>\n",
              "      <td>66.000000</td>\n",
              "      <td>360.0</td>\n",
              "      <td>1.0</td>\n",
              "      <td>0</td>\n",
              "    </tr>\n",
              "    <tr>\n",
              "      <th>3</th>\n",
              "      <td>1</td>\n",
              "      <td>1</td>\n",
              "      <td>0</td>\n",
              "      <td>1</td>\n",
              "      <td>0</td>\n",
              "      <td>2</td>\n",
              "      <td>2583.0</td>\n",
              "      <td>2358.0</td>\n",
              "      <td>120.000000</td>\n",
              "      <td>360.0</td>\n",
              "      <td>1.0</td>\n",
              "      <td>0</td>\n",
              "    </tr>\n",
              "    <tr>\n",
              "      <th>4</th>\n",
              "      <td>1</td>\n",
              "      <td>0</td>\n",
              "      <td>0</td>\n",
              "      <td>0</td>\n",
              "      <td>0</td>\n",
              "      <td>2</td>\n",
              "      <td>6000.0</td>\n",
              "      <td>0.0</td>\n",
              "      <td>141.000000</td>\n",
              "      <td>360.0</td>\n",
              "      <td>1.0</td>\n",
              "      <td>0</td>\n",
              "    </tr>\n",
              "  </tbody>\n",
              "</table>\n",
              "</div>"
            ],
            "text/plain": [
              "   Gender  Married  Dependents  ...  Loan_Amount_Term  Credit_History  Loan_Status\n",
              "0       1        0           0  ...             360.0             1.0            0\n",
              "1       1        1           1  ...             360.0             1.0            1\n",
              "2       1        1           0  ...             360.0             1.0            0\n",
              "3       1        1           0  ...             360.0             1.0            0\n",
              "4       1        0           0  ...             360.0             1.0            0\n",
              "\n",
              "[5 rows x 12 columns]"
            ]
          },
          "metadata": {},
          "execution_count": 101
        }
      ]
    },
    {
      "cell_type": "code",
      "metadata": {
        "id": "-DmSiACMwIBp",
        "colab": {
          "base_uri": "https://localhost:8080/",
          "height": 314
        },
        "outputId": "14a6ffb3-9a71-490d-b966-6e9bf3bc6a1d"
      },
      "source": [
        "validation = pd.DataFrame(data=Y_validation)\n",
        "validation.hist()"
      ],
      "execution_count": null,
      "outputs": [
        {
          "output_type": "execute_result",
          "data": {
            "text/plain": [
              "array([[<matplotlib.axes._subplots.AxesSubplot object at 0x7f1343787a90>]],\n",
              "      dtype=object)"
            ]
          },
          "metadata": {},
          "execution_count": 183
        },
        {
          "output_type": "display_data",
          "data": {
            "image/png": "[encoded data removed]",
            "text/plain": [
              "<Figure size 432x288 with 1 Axes>"
            ]
          },
          "metadata": {
            "needs_background": "light"
          }
        }
      ]
    },
    {
      "cell_type": "code",
      "metadata": {
        "colab": {
          "base_uri": "https://localhost:8080/",
          "height": 314
        },
        "id": "3q2Nv5XBBmkW",
        "outputId": "eb91aec1-30d8-4489-c8fa-df81db5e7700"
      },
      "source": [
        "train = pd.DataFrame(data=Y_train)\n",
        "train.hist()"
      ],
      "execution_count": null,
      "outputs": [
        {
          "output_type": "execute_result",
          "data": {
            "text/plain": [
              "array([[<matplotlib.axes._subplots.AxesSubplot object at 0x7f1343787d50>]],\n",
              "      dtype=object)"
            ]
          },
          "metadata": {},
          "execution_count": 184
        },
        {
          "output_type": "display_data",
          "data": {
            "image/png": "[encoded data removed]",
            "text/plain": [
              "<Figure size 432x288 with 1 Axes>"
            ]
          },
          "metadata": {
            "needs_background": "light"
          }
        }
      ]
    },
    {
      "cell_type": "code",
      "metadata": {
        "id": "hkin_yh3Mj83"
      },
      "source": [],
      "execution_count": null,
      "outputs": []
    }
  ]
}